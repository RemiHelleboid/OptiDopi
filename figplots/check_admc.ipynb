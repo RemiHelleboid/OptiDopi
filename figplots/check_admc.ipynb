{
 "cells": [
  {
   "cell_type": "code",
   "execution_count": null,
   "metadata": {},
   "outputs": [],
   "source": [
    "import numpy as np\n",
    "import matplotlib.pyplot as plt\n",
    "import sys, os\n",
    "\n",
    "import matplotlib.animation as animation\n",
    "import glob, re\n",
    "\n",
    "import scienceplots\n",
    "\n",
    "plt.style.use('default')\n",
    "plt.style.use(['science', 'high-vis', 'grid'])"
   ]
  },
  {
   "cell_type": "code",
   "execution_count": null,
   "metadata": {},
   "outputs": [],
   "source": [
    "file = \"/home/remi/DEV/OptiDopi/build/file_data_admc.csv\"\n",
    "xline, doping, efield, eMob, hMob, eVel, hVel, eDiff, hDiff, eDivDiff, hDivDiff = np.loadtxt(file, delimiter=',', unpack=True, skiprows=1)"
   ]
  },
  {
   "cell_type": "code",
   "execution_count": null,
   "metadata": {},
   "outputs": [],
   "source": [
    "fig, axs = plt.subplots(3, 1, figsize=(3.5, 6), sharex=True)\n",
    "\n",
    "axs[0].plot(xline, np.abs(doping))\n",
    "axs[0].set_yscale(\"log\")\n",
    "axs[1].plot(xline, efield)\n",
    "axs[2].plot(xline, np.abs(eMob), label=\"eVelocity\") \n",
    "axs[2].plot(xline, np.abs(hMob), label=\"hVelocity\")\n",
    "axs[2].set_yscale(\"log\")\n",
    "\n",
    "axs[0].set_ylabel(\"Net Doping (cm$^{-3}$)\")\n",
    "axs[1].set_ylabel(\"Electric Field (V cm$^{-1}$)\")\n",
    "axs[2].set_ylabel(\"Mobility (cm s$^{-2}$)\")\n",
    "axs[2].set_xlabel(\"X ($\\mu$m)\")\n",
    "\n",
    "axs[1].ticklabel_format(style='sci',scilimits=(0,0),axis='y')\n",
    "fig.align_ylabels(axs[:])\n",
    "\n",
    "fig.tight_layout()\n"
   ]
  },
  {
   "cell_type": "code",
   "execution_count": null,
   "metadata": {},
   "outputs": [],
   "source": [
    "fig, axs = plt.subplots(3, 1, figsize=(3.5, 5), sharex=True)\n",
    "\n",
    "axs[0].plot(xline, efield)\n",
    "axs[1].plot(xline, np.abs(eMob), label=\"eMobility\") \n",
    "axs[1].plot(xline, np.abs(hMob), label=\"hMobility\")\n",
    "axs[2].plot(xline, np.abs(eVel), label=\"eVelocity\") \n",
    "axs[2].plot(xline, np.abs(hVel), label=\"hVelocity\")\n",
    "axs[2].set_yscale(\"log\")\n",
    "axs[2].set_ylim(bottom=1)\n",
    "\n",
    "axs[0].set_ylabel(\"Electric Field (V cm$^{-1}$)\")\n",
    "axs[1].set_ylabel(\"Mobility (cm s$^{-2}$)\")\n",
    "axs[2].set_ylabel(\"Velocity (cm s$^{-1}$)\")\n",
    "axs[2].set_xlabel(\"X ($\\mu$m)\")\n",
    "\n",
    "for _ax in axs:\n",
    "    _ax.legend()\n",
    "\n",
    "axs[0].ticklabel_format(style='sci',scilimits=(0,0),axis='y')\n",
    "fig.align_ylabels(axs[:])"
   ]
  },
  {
   "cell_type": "code",
   "execution_count": null,
   "metadata": {},
   "outputs": [],
   "source": [
    "fig, axs = plt.subplots(3, 1, figsize=(4.5, 6), sharex=True)\n",
    "\n",
    "axs[0].plot(xline, efield, label=\"Electric field\")\n",
    "axs[1].plot(xline, np.abs(eDiff), label=\"eDiffusion\") \n",
    "# axs[1].plot(xline, np.abs(hDiff), label=\"hVelocity\")\n",
    "# axs[2].plot(xline, np.abs(hDivDiff), label=\"hDivVel\")\n",
    "axs[2].plot(xline, -eVel, label=\"-eVelocity\") \n",
    "axs[2].plot(xline, eDivDiff*1e4, label=\"div$(D)$\", alpha=0.8, ls='-') \n",
    "# axs[2].plot(xline, np.abs(hDivDiff), label=\"hDivVel\")\n",
    "# axs[2].set_yscale(\"log\")\n",
    "axs[2].legend()\n",
    "\n",
    "axs[0].set_ylabel(\"Electric Field (V cm$^{-1}$)\")\n",
    "axs[1].set_ylabel(\"Diffusion (cm$^2$ s$^{-1}$)\")\n",
    "axs[2].set_ylabel(\"Velocity (cm s$^{-1}$)\")\n",
    "axs[2].set_xlabel(\"X ($\\mu$m)\")\n",
    "\n",
    "for _ax in axs:\n",
    "    _ax.legend()\n",
    "\n",
    "axs[0].ticklabel_format(style='sci',scilimits=(0,0),axis='y')\n",
    "fig.align_ylabels(axs[:])\n",
    "\n",
    "fig.savefig(\"DiffusionAndVelocity.svg\")\n",
    "fig.savefig(\"DiffusionAndVelocity.pdf\")"
   ]
  },
  {
   "cell_type": "code",
   "execution_count": null,
   "metadata": {},
   "outputs": [],
   "source": [
    "fig, axs = plt.subplots(1, 2, sharex=True, figsize=(5, 3))\n",
    "axs[0].plot(xline, -eVel+eDivDiff*1e4, label=\"eVelocity\") \n",
    "axs[0].plot(xline, -eVel, label=\"Total Velocity\") \n",
    "axs[1].plot(xline, -eVel+eDivDiff*1e4)\n",
    "axs[1].plot(xline, -eVel) \n",
    "axs[1].set_yscale(\"log\")\n",
    "axs[1].set_ylim(bottom=1e0)\n",
    "fig.tight_layout()\n",
    "\n",
    "axs[0].set_ylabel(\"Velocity (cm s$^{-1}$)\")\n",
    "axs[1].set_ylabel(\"Velocity (cm s$^{-1}$)\")\n",
    "fig.legend(loc=\"upper center\")\n",
    "\n",
    "fig.tight_layout()\n",
    "\n",
    "fig.savefig(\"VelocityElectronCheck.svg\")\n",
    "fig.savefig(\"VelocityElectronCheck.pdf\")"
   ]
  },
  {
   "cell_type": "code",
   "execution_count": null,
   "metadata": {},
   "outputs": [],
   "source": [
    "fig, axs = plt.subplots(1, 1, sharex=True, figsize=(5, 3))\n",
    "ratio = np.abs(eVel) / (np.abs(eVel) + np.abs(eDivDiff*1e4))\n",
    "axs.plot(xline, ratio)\n",
    "axs.set_ylabel(\"$div(D$\")\n",
    "fig.tight_layout()"
   ]
  },
  {
   "cell_type": "code",
   "execution_count": null,
   "metadata": {},
   "outputs": [],
   "source": [
    "NumpyeDivDiff = np.gradient(eDiff, xline*1e-4)\n",
    "plt.plot(xline, eDivDiff, label=\"DOPTI\")\n",
    "plt.plot(xline, NumpyeDivDiff, label=\"NULMPY\")\n",
    "plt.legend()"
   ]
  },
  {
   "cell_type": "code",
   "execution_count": null,
   "metadata": {},
   "outputs": [],
   "source": []
  }
 ],
 "metadata": {
  "kernelspec": {
   "display_name": "base",
   "language": "python",
   "name": "python3"
  },
  "language_info": {
   "codemirror_mode": {
    "name": "ipython",
    "version": 3
   },
   "file_extension": ".py",
   "mimetype": "text/x-python",
   "name": "python",
   "nbconvert_exporter": "python",
   "pygments_lexer": "ipython3",
   "version": "3.9.13"
  }
 },
 "nbformat": 4,
 "nbformat_minor": 2
}
