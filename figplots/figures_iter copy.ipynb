{
 "cells": [
  {
   "cell_type": "code",
   "execution_count": null,
   "metadata": {},
   "outputs": [],
   "source": [
    "import numpy as np\n",
    "import matplotlib.pyplot as plt\n",
    "import sys, os\n",
    "\n",
    "import matplotlib.animation as animation\n",
    "import glob, re\n",
    "\n",
    "import scienceplots\n",
    "\n",
    "plt.style.use('default')\n",
    "plt.style.use(['science', 'high-vis', 'grid'])"
   ]
  },
  {
   "cell_type": "code",
   "execution_count": null,
   "metadata": {},
   "outputs": [],
   "source": [
    "# Get lastly created folder in a directory\n",
    "def get_last_folder(dir):\n",
    "    list_of_subfolders = [f.path for f in os.scandir(dir) if f.is_dir()]\n",
    "    latest_subfolder = max(list_of_subfolders, key=os.path.getmtime)\n",
    "    return latest_subfolder"
   ]
  },
  {
   "cell_type": "code",
   "execution_count": null,
   "metadata": {},
   "outputs": [],
   "source": [
    "PSO_DIR = get_last_folder(\"../build/results_pso/\")\n",
    "# SA_DIR = get_last_folder(\"../build/results_sa/\")\n",
    "\n",
    "print(PSO_DIR)\n",
    "# print(SA_DIR)\n",
    "\n",
    "file_spad_figures_PSO = f\"{PSO_DIR}/BEST/SPAD_figures_best_path.csv\"\n",
    "# file_spad_figures_SA = f\"{SA_DIR}/BEST/SPAD_figures_best_path.csv\""
   ]
  },
  {
   "cell_type": "code",
   "execution_count": null,
   "metadata": {},
   "outputs": [],
   "source": [
    "Iteration_PSO, BV_PSO, BrP_PSO, DW_PSO, Cost_PSO = np.loadtxt(file_spad_figures_PSO, delimiter=',', unpack=True, skiprows=1)\n",
    "# Iteration_SA, BV_SA, BrP_SA, DW_SA, Cost_SA = np.loadtxt(file_spad_figures_SA, delimiter=',', unpack=True, skiprows=1)\n",
    "\n",
    "# DW_SA *= 1.0e6\n",
    "DW_PSO *= 1.0e6\n",
    "\n",
    "# Sort by iteration\n",
    "idx_PSO = np.argsort(Iteration_PSO)\n",
    "# idx_SA = np.argsort(Iteration_SA)\n",
    "\n",
    "Iteration_PSO = Iteration_PSO[idx_PSO]\n",
    "BV_PSO = BV_PSO[idx_PSO]\n",
    "BrP_PSO = BrP_PSO[idx_PSO]\n",
    "DW_PSO = DW_PSO[idx_PSO]\n",
    "Cost_PSO = Cost_PSO[idx_PSO]\n",
    "\n",
    "# Iteration_SA = Iteration_SA[idx_SA]\n",
    "# BV_SA = BV_SA[idx_SA]\n",
    "# BrP_SA = BrP_SA[idx_SA]\n",
    "# DW_SA = DW_SA[idx_SA]\n",
    "# Cost_SA = Cost_SA[idx_SA]\n"
   ]
  },
  {
   "cell_type": "code",
   "execution_count": null,
   "metadata": {},
   "outputs": [],
   "source": [
    "# Clean the data, remove unconverged iterations (BrP drops a lot)\n",
    "\n",
    "clean = False\n",
    "while not clean:\n",
    "\n",
    "    list_bad_idx_PSO = []\n",
    "    list_bad_idx_SA = []\n",
    "    for i in range(1, len(BrP_PSO)-1):\n",
    "        if BrP_PSO[i] < 0.5*BrP_PSO[i-1] and BrP_PSO[i] < 0.5*BrP_PSO[i+1]:\n",
    "            list_bad_idx_PSO.append(i)\n",
    "\n",
    "    for i in range(1, len(BrP_SA)-1):\n",
    "        if BrP_SA[i] < 0.5*BrP_SA[i-1] and BrP_SA[i] < 0.5 * BrP_SA[i+1]:\n",
    "            list_bad_idx_SA.append(i)\n",
    "\n",
    "    print(f\"Bad idx PSO: {list_bad_idx_PSO}\")\n",
    "    print(f\"Bad idx SA: {list_bad_idx_SA}\")\n",
    "\n",
    "    Iteration_PSO = np.delete(Iteration_PSO, list_bad_idx_PSO)\n",
    "    BV_PSO = np.delete(BV_PSO, list_bad_idx_PSO)\n",
    "    BrP_PSO = np.delete(BrP_PSO, list_bad_idx_PSO)\n",
    "    DW_PSO = np.delete(DW_PSO, list_bad_idx_PSO)\n",
    "    Cost_PSO = np.delete(Cost_PSO, list_bad_idx_PSO)\n",
    "\n",
    "    # Iteration_SA = np.delete(Iteration_SA, list_bad_idx_SA)\n",
    "    # BV_SA = np.delete(BV_SA, list_bad_idx_SA)\n",
    "    # BrP_SA = np.delete(BrP_SA, list_bad_idx_SA)\n",
    "    # DW_SA = np.delete(DW_SA, list_bad_idx_SA)\n",
    "    # Cost_SA = np.delete(Cost_SA, list_bad_idx_SA)\n",
    "    \n",
    "    # clean = (len(list_bad_idx_PSO) == 0 and len(list_bad_idx_SA) == 0)\n",
    "    \n"
   ]
  },
  {
   "cell_type": "code",
   "execution_count": null,
   "metadata": {},
   "outputs": [],
   "source": [
    "fig, ax = plt.subplots(3, 1, figsize=(3.5, 5), sharex=True)\n",
    "\n",
    "ax[0].set_ylabel('BV (V)')\n",
    "ax[1].set_ylabel('BrP')\n",
    "ax[2].set_ylabel('DW ($\\mu$m)')\n",
    "ax[2].set_xlabel('Iteration')\n",
    "\n",
    "ax[0].plot(Iteration_PSO, BV_PSO, color='b', ls='-', lw=2, label=\"PSO\")\n",
    "ax[1].plot(Iteration_PSO, BrP_PSO, color='b', ls=\"-\", lw=2, label=\"PSO\")\n",
    "ax[2].plot(Iteration_PSO, DW_PSO, color='b', ls=\"-\", lw=2, label=\"PSO\")\n",
    "# ax[0].plot(Iteration_SA, BV_SA, color='r', ls=\"-\", lw=2, label=\"SA\")\n",
    "# ax[1].plot(Iteration_SA, BrP_SA, color='r', ls=\"-\", lw=2, label=\"SA\")\n",
    "# ax[2].plot(Iteration_SA, DW_SA, color='r', ls=\"-\", lw=2, label=\"SA\")\n",
    "\n",
    "ax[0].set_ylim(15, 25)\n",
    "ax[1].set_ylim(0.0, 0.9)\n",
    "ax[2].set_ylim(0, 10.1)\n",
    "\n",
    "for a in ax:\n",
    "    a.legend()\n",
    "\n",
    "fig.tight_layout()\n",
    "\n",
    "rd = np.random.randint(0, 1000)\n",
    "fig.savefig(f'figuresiter_{rd}.pdf', dpi=300)"
   ]
  },
  {
   "cell_type": "code",
   "execution_count": null,
   "metadata": {},
   "outputs": [],
   "source": [
    "# Plot cost function\n",
    "fig, ax = plt.subplots(1, 1)\n",
    "\n",
    "ax.set_xlabel('Iteration')\n",
    "ax.set_ylabel('Cost function')\n",
    "\n",
    "ax.plot(Iteration_PSO, Cost_PSO/10, color='b', ls=\"-\", label=\"PSO\", lw=2)\n",
    "# ax.plot(Iteration_SA, Cost_SA/10, color='r', ls=\"-\", label=\"SA\", lw=2)\n",
    "#ax.set_ylim(bottom=-20000, top=10)\n",
    "ax.legend()\n",
    "\n",
    "fig.tight_layout()\n",
    "#fig.savefig('/home/remi/Papers/IWCN23/figuresiter_cost.pdf', dpi=300)\n"
   ]
  },
  {
   "cell_type": "code",
   "execution_count": null,
   "metadata": {},
   "outputs": [],
   "source": []
  },
  {
   "cell_type": "code",
   "execution_count": null,
   "metadata": {},
   "outputs": [],
   "source": []
  }
 ],
 "metadata": {
  "kernelspec": {
   "display_name": "Python 3",
   "language": "python",
   "name": "python3"
  },
  "language_info": {
   "codemirror_mode": {
    "name": "ipython",
    "version": 3
   },
   "file_extension": ".py",
   "mimetype": "text/x-python",
   "name": "python",
   "nbconvert_exporter": "python",
   "pygments_lexer": "ipython3",
   "version": "3.9.13"
  },
  "vscode": {
   "interpreter": {
    "hash": "4b4a56d5ef8b4286ff93eb88683cdca628821376dc55dff168258c1f2d95891b"
   }
  }
 },
 "nbformat": 4,
 "nbformat_minor": 2
}
