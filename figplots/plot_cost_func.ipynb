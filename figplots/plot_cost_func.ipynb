{
 "cells": [
  {
   "cell_type": "code",
   "execution_count": null,
   "metadata": {},
   "outputs": [],
   "source": [
    "import numpy as np\n",
    "import matplotlib.pyplot as plt\n",
    "import sys, os\n",
    "\n",
    "import matplotlib.animation as animation\n",
    "import glob, re\n",
    "\n",
    "import scienceplots\n",
    "\n",
    "plt.style.use('default')\n",
    "plt.style.use(['science', 'high-vis', 'grid'])"
   ]
  },
  {
   "cell_type": "code",
   "execution_count": null,
   "metadata": {},
   "outputs": [],
   "source": [
    "# Get lastly created folder in a directory\n",
    "def get_last_folder(dir):\n",
    "    list_of_subfolders = [f.path for f in os.scandir(dir) if f.is_dir()]\n",
    "    latest_subfolder = max(list_of_subfolders, key=os.path.getmtime)\n",
    "    return latest_subfolder\n",
    "\n",
    "def get_all_folders(dir):\n",
    "    list_of_subfolders = [f.path for f in os.scandir(dir) if f.is_dir()]\n",
    "    return list_of_subfolders\n",
    "\n",
    "def get_all_sa_histories(dir):\n",
    "    list_of_files = [f.path for f in os.scandir(dir) if f.is_file()]\n",
    "    list_of_sa_histories = [f for f in list_of_files if 'history_optimization' in f]\n",
    "    return list_of_sa_histories"
   ]
  },
  {
   "cell_type": "code",
   "execution_count": null,
   "metadata": {},
   "outputs": [],
   "source": [
    "PSO_DIR = get_last_folder(\"../build/results_pso/\")\n",
    "SA_DIR = get_last_folder(\"../build/results_sa/\")\n",
    "\n",
    "PSO_History = np.loadtxt(PSO_DIR + \"/global_swarm.csv\", delimiter=\",\", skiprows=1)\n",
    "SA_History = np.loadtxt(SA_DIR + \"/history_optimization.csv\", delimiter=\",\", skiprows=1)\n",
    "print(PSO_History.shape)\n",
    "PSO_NbIter = PSO_History.shape[0]\n",
    "PSO_NbCol = PSO_History.shape[1]\n",
    "PSO_Iter = PSO_History[:,0]\n",
    "PSO_Cost = PSO_History[:,-1]\n",
    "\n",
    "print(\"PSO_DIR: \", PSO_DIR)\n",
    "print(\"SA_DIR: \", SA_DIR)\n",
    "SA_NbIter = SA_History.shape[0]\n",
    "SA_NbCol = SA_History.shape[1]\n",
    "SA_Iter = SA_History[:,0]\n",
    "SA_Cost = SA_History[:,1]\n",
    "SA_Temp = SA_History[:,2]\n",
    "\n",
    "min_ok_pso = np.argmax(PSO_Cost<1e3)\n",
    "PSO_Cost = PSO_Cost[min_ok_pso::]\n",
    "PSO_Iter = PSO_Iter[min_ok_pso::]\n",
    "min_ok_sa = np.argmax(SA_Cost<1e3)\n",
    "SA_Cost = SA_Cost[min_ok_sa::]\n",
    "SA_Iter = SA_Iter[min_ok_sa::]\n",
    "SA_Temp = SA_Temp[min_ok_sa::]"
   ]
  },
  {
   "cell_type": "code",
   "execution_count": null,
   "metadata": {},
   "outputs": [],
   "source": [
    "fig, ax = plt.subplots(1,1)\n",
    "ax.plot(SA_Iter, SA_Temp, 's-', label=\"SA\", markersize=4)\n",
    "ax.set_xlabel(\"Iteration\")\n",
    "ax.set_ylabel(\"Temperature\")\n",
    "ax.legend()\n",
    "ax.set_yscale(\"log\")\n",
    "plt.savefig(\"sa_temperature.pdf\", dpi=300)\n"
   ]
  },
  {
   "cell_type": "code",
   "execution_count": null,
   "metadata": {},
   "outputs": [],
   "source": [
    "fig, ax = plt.subplots(1,1)\n",
    "ax.plot(PSO_Iter, PSO_Cost, '*-', label=\"PSO\", markersize=2, markevery=50)\n",
    "ax.plot(SA_Iter, SA_Cost, 's-', label=\"SA\", markersize=2, markevery=50)\n",
    "ax.set_xlabel(\"Iteration\")\n",
    "ax.set_ylabel(\"Cost\")\n",
    "# ax.set_yscale(\"log\")\n",
    "# ax.set_ylim(bottom=None, top=100.0)\n",
    "ax.legend()\n",
    "plt.savefig(\"cost_func.pdf\", dpi=300)"
   ]
  },
  {
   "cell_type": "code",
   "execution_count": null,
   "metadata": {},
   "outputs": [],
   "source": [
    "def temp_geom(max_iter, T0, alpha)->list:\n",
    "    T = np.zeros(max_iter)\n",
    "    T[0] = T0\n",
    "    for i in range(1, max_iter):\n",
    "        T[i] = T[i-1] * alpha\n",
    "    return T\n",
    "\n",
    "MaxIter = 400\n",
    "T0 = 40\n",
    "alpha = 0.97\n",
    "T = temp_geom(MaxIter, T0, alpha)\n",
    "# plot temperature\n",
    "fig, ax = plt.subplots(1,1)\n",
    "ax.plot(np.arange(MaxIter), T, 's-', label=\"SA\", markersize=4)\n",
    "ax.set_xlabel(\"Iteration\")\n",
    "ax.set_ylabel(\"Temperature\")\n",
    "ax.legend()\n",
    "ax.set_yscale(\"log\")\n"
   ]
  },
  {
   "cell_type": "code",
   "execution_count": null,
   "metadata": {},
   "outputs": [],
   "source": []
  },
  {
   "cell_type": "code",
   "execution_count": null,
   "metadata": {},
   "outputs": [],
   "source": []
  }
 ],
 "metadata": {
  "kernelspec": {
   "display_name": "Python 3",
   "language": "python",
   "name": "python3"
  },
  "language_info": {
   "codemirror_mode": {
    "name": "ipython",
    "version": 3
   },
   "file_extension": ".py",
   "mimetype": "text/x-python",
   "name": "python",
   "nbconvert_exporter": "python",
   "pygments_lexer": "ipython3",
   "version": "3.9.13"
  },
  "vscode": {
   "interpreter": {
    "hash": "4b4a56d5ef8b4286ff93eb88683cdca628821376dc55dff168258c1f2d95891b"
   }
  }
 },
 "nbformat": 4,
 "nbformat_minor": 2
}
