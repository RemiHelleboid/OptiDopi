{
 "cells": [
  {
   "cell_type": "code",
   "execution_count": null,
   "metadata": {},
   "outputs": [],
   "source": [
    "import numpy as np\n",
    "import matplotlib.pyplot as plt\n",
    "import sys, os\n",
    "\n",
    "import matplotlib.animation as animation\n",
    "from matplotlib import rc\n",
    "# 3D plotting\n",
    "from mpl_toolkits.mplot3d import Axes3D\n",
    "from matplotlib import cm\n",
    "import glob, re\n",
    "import pyswarms as ps\n",
    "from pyswarms.utils.plotters import (plot_cost_history, plot_contour, plot_surface)\n",
    "from pyswarms.utils.plotters.formatters import Mesher\n",
    "import scienceplots\n",
    "\n",
    "plt.style.use('default')\n",
    "plt.style.use(['science' ,'high-vis'])"
   ]
  },
  {
   "cell_type": "code",
   "execution_count": null,
   "metadata": {},
   "outputs": [],
   "source": [
    "def f_cost(x, y):\n",
    "    r_0 = 0, 0\n",
    "    r_1 = 1, 1\n",
    "    f = 0\n",
    "    f += -2.0 * np.exp(-2.0 * ((x - r_0[0])**2 + (y - r_0[1])**2))\n",
    "    f += -np.exp(-4.0 * ((x - r_1[0])**2 + (y - r_1[1])**2))\n",
    "    return f\n",
    "\n",
    "def f_cost2(x):\n",
    "    r_0 = np.array([0, 0])\n",
    "    r_1 = np.array([1, 1])\n",
    "    f = 0\n",
    "    f += -2.0 * np.exp(-2.0 * np.sum((x - r_0)**2))\n",
    "    f += -np.exp(-4.0 * np.sum((x - r_1)**2))\n",
    "    return f\n"
   ]
  },
  {
   "cell_type": "code",
   "execution_count": null,
   "metadata": {},
   "outputs": [],
   "source": [
    "x = np.linspace(-2, 2, 100)\n",
    "y = np.linspace(-2, 2, 100)\n",
    "X, Y = np.meshgrid(x, y)\n",
    "Z = f_cost(X, Y)\n",
    "\n",
    "fig, ax = plt.subplots()\n",
    "ax.contourf(X, Y, Z, 100, cmap='viridis')\n",
    "ax.set_xlabel(r'$x$')\n",
    "ax.set_ylabel(r'$y$')\n",
    "ax.set_xlim(-2, 2)\n",
    "ax.set_ylim(-2, 2)\n",
    "ax.set_aspect('equal')\n",
    "plt.tight_layout()\n"
   ]
  },
  {
   "cell_type": "code",
   "execution_count": null,
   "metadata": {},
   "outputs": [],
   "source": [
    "# 3D surface plot\n",
    "fig = plt.figure()\n",
    "ax = plt.axes(projection='3d')\n",
    "ax.plot_surface(X, Y, Z, rstride=1, cstride=1, cmap='viridis', edgecolor='none', alpha=0.5)\n",
    "\n",
    "Points = np.random.rand(10, 2) * 4 - 2\n",
    "ax.scatter(Points[:, 0], Points[:, 1], f_cost(Points[:, 0], Points[:, 1]), c='k', marker='.', s=5)"
   ]
  },
  {
   "cell_type": "code",
   "execution_count": null,
   "metadata": {},
   "outputs": [],
   "source": [
    "# Particle swarm optimization\n",
    "\n",
    "def f_cost(X):\n",
    "    return f_cost2(X)\n",
    "\n",
    "# Set-up hyperparameters\n",
    "options = {'c1': 0.5, 'c2': 0.3, 'w':0.9}\n",
    "\n",
    "# Call instance of PSO\n",
    "optimizer = ps.single.GlobalBestPSO(n_particles=10, dimensions=2, options=options)\n",
    "\n",
    "# Perform optimization\n",
    "cost, pos = optimizer.optimize(f_cost2, iters=100)\n",
    "\n",
    "# Plot the results with surface plot\n",
    "\n",
    "fig, ax = plt.subplots()\n",
    "ax = plt.axes(projection='3d')\n",
    "ax.plot_surface(X, Y, Z, rstride=1, cstride=1, cmap='viridis', edgecolor='none', alpha=0.5)\n",
    "ax.scatter(pos[0], pos[1], f_cost2(pos), c='k', marker='.', s=5)\n",
    "\n",
    "plt.show()\n"
   ]
  },
  {
   "cell_type": "code",
   "execution_count": null,
   "metadata": {},
   "outputs": [],
   "source": []
  },
  {
   "cell_type": "code",
   "execution_count": null,
   "metadata": {},
   "outputs": [],
   "source": [
    "plot_cost_history(cost_history=optimizer.cost_history)"
   ]
  },
  {
   "cell_type": "code",
   "execution_count": null,
   "metadata": {},
   "outputs": [],
   "source": [
    "len(optimizer.pos_history)\n",
    "optimizer.pos_history[0].T"
   ]
  },
  {
   "cell_type": "code",
   "execution_count": null,
   "metadata": {},
   "outputs": [],
   "source": [
    "Xpart = [optimizer.pos_history[i].T[0] for i in range(len(optimizer.pos_history))]\n",
    "Ypart = [optimizer.pos_history[i].T[1] for i in range(len(optimizer.pos_history))]\n",
    "Zpart = []\n",
    "for i in range(len(Xpart)):\n",
    "    Zpart.append([])\n",
    "    for j in range(len(Xpart[i])):\n",
    "        Zpart[i].append(f_cost(np.array([Xpart[i][j], Ypart[i][j]])))\n",
    "\n",
    "print(Xpart[0])\n",
    "print(Ypart[0])\n",
    "print(Zpart[0])"
   ]
  },
  {
   "cell_type": "code",
   "execution_count": null,
   "metadata": {},
   "outputs": [],
   "source": [
    "%matplotlib notebook\n",
    "\n",
    "plt.style.use('default')\n",
    "fig, ax = plt.subplots()\n",
    "ax = plt.axes(projection='3d')\n",
    "ax.plot_surface(X, Y, Z, rstride=1, cstride=1, cmap='viridis', edgecolor='none', alpha=0.5)\n",
    "\n"
   ]
  },
  {
   "cell_type": "code",
   "execution_count": null,
   "metadata": {},
   "outputs": [],
   "source": []
  },
  {
   "cell_type": "code",
   "execution_count": null,
   "metadata": {},
   "outputs": [],
   "source": []
  }
 ],
 "metadata": {
  "kernelspec": {
   "display_name": "base",
   "language": "python",
   "name": "python3"
  },
  "language_info": {
   "codemirror_mode": {
    "name": "ipython",
    "version": 3
   },
   "file_extension": ".py",
   "mimetype": "text/x-python",
   "name": "python",
   "nbconvert_exporter": "python",
   "pygments_lexer": "ipython3",
   "version": "3.9.13"
  }
 },
 "nbformat": 4,
 "nbformat_minor": 2
}
