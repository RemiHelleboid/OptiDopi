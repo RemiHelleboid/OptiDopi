{
 "cells": [
  {
   "cell_type": "code",
   "execution_count": 1,
   "metadata": {},
   "outputs": [],
   "source": [
    "import numpy as np\n",
    "import matplotlib.pyplot as plt\n",
    "import sys, os\n",
    "\n",
    "import matplotlib.animation as animation\n",
    "import glob, re\n",
    "\n",
    "import scienceplots\n",
    "\n",
    "plt.style.use('default')\n",
    "plt.style.use(['science', 'high-vis', 'grid'])"
   ]
  },
  {
   "cell_type": "code",
   "execution_count": 2,
   "metadata": {},
   "outputs": [],
   "source": [
    "# Get lastly created folder in a directory\n",
    "def get_last_folder(dir):\n",
    "    list_of_subfolders = [f.path for f in os.scandir(dir) if f.is_dir()]\n",
    "    latest_subfolder = max(list_of_subfolders, key=os.path.getmtime)\n",
    "    return latest_subfolder"
   ]
  },
  {
   "cell_type": "code",
   "execution_count": 3,
   "metadata": {},
   "outputs": [
    {
     "name": "stdout",
     "output_type": "stream",
     "text": [
      "../build/results_pso/2023-03-12_14-38-59\n"
     ]
    }
   ],
   "source": [
    "PSO_DIR = get_last_folder(\"../build/results_pso/\")\n",
    "\n",
    "print(PSO_DIR)\n",
    "\n",
    "file_spad_figures_PSO = f\"{PSO_DIR}/BEST/SPAD_figures_best_path.csv\"\n"
   ]
  },
  {
   "cell_type": "code",
   "execution_count": 4,
   "metadata": {},
   "outputs": [],
   "source": [
    "Iteration_PSO, BV_PSO, BrP_PSO, DW_PSO, Cost_PSO = np.loadtxt(file_spad_figures_PSO, delimiter=',', unpack=True, skiprows=1)\n",
    "\n",
    "DW_PSO *= 1.0e6\n",
    "\n",
    "# Sort by iteration\n",
    "idx_PSO = np.argsort(Iteration_PSO)\n",
    "\n",
    "Iteration_PSO = Iteration_PSO[idx_PSO]\n",
    "BV_PSO = BV_PSO[idx_PSO]\n",
    "BrP_PSO = BrP_PSO[idx_PSO]\n",
    "DW_PSO = DW_PSO[idx_PSO]\n",
    "Cost_PSO = Cost_PSO[idx_PSO]\n",
    "\n"
   ]
  },
  {
   "cell_type": "code",
   "execution_count": 8,
   "metadata": {},
   "outputs": [
    {
     "data": {
      "text/plain": [
       "(0.0, 6.0)"
      ]
     },
     "execution_count": 8,
     "metadata": {},
     "output_type": "execute_result"
    },
    {
     "data": {
      "image/png": "[encoded data removed]",
      "text/plain": [
       "<Figure size 350x262.5 with 1 Axes>"
      ]
     },
     "metadata": {},
     "output_type": "display_data"
    }
   ],
   "source": [
    "fig, ax = plt.subplots(1, 1)\n",
    "ax.plot(BV_PSO, DW_PSO, 'o-', label='PSO')\n",
    "ax.set_xlabel('BV (V)')\n",
    "ax.set_ylabel('DW ($mu$m)')\n",
    "ax.set_xlim(0.0, 40.0)\n",
    "ax.set_ylim(0.0, 6.0)"
   ]
  },
  {
   "cell_type": "code",
   "execution_count": null,
   "metadata": {},
   "outputs": [],
   "source": [
    "')"
   ]
  },
  {
   "cell_type": "code",
   "execution_count": null,
   "metadata": {},
   "outputs": [],
   "source": []
  }
 ],
 "metadata": {
  "kernelspec": {
   "display_name": "base",
   "language": "python",
   "name": "python3"
  },
  "language_info": {
   "codemirror_mode": {
    "name": "ipython",
    "version": 3
   },
   "file_extension": ".py",
   "mimetype": "text/x-python",
   "name": "python",
   "nbconvert_exporter": "python",
   "pygments_lexer": "ipython3",
   "version": "3.9.13"
  },
  "orig_nbformat": 4
 },
 "nbformat": 4,
 "nbformat_minor": 2
}
