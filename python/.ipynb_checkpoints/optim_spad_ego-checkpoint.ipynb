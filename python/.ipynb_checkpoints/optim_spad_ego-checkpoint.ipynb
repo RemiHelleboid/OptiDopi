{
 "cells": [
  {
   "cell_type": "code",
   "execution_count": null,
   "metadata": {},
   "outputs": [],
   "source": [
    "import numpy as np\n",
    "import matplotlib.pyplot as plt\n",
    "import sys\n",
    "import matplotlib.animation as animation\n",
    "import glob, re, os\n",
    "import subprocess\n",
    "\n",
    "from smt.applications.mixed_integer import (\n",
    "    MixedIntegerContext,\n",
    "    FLOAT,\n",
    "    ENUM,\n",
    "    ORD,\n",
    ")\n",
    "\n",
    "import scipy.linalg as lng\n",
    "\n",
    "from smt.applications import EGO\n",
    "from smt.surrogate_models import KRG\n",
    "from smt.sampling_methods import LHS\n",
    "\n",
    "\n",
    "import scienceplots\n",
    "plt.style.use('default')\n",
    "plt.style.use(['science', 'high-vis', 'grid'])"
   ]
  },
  {
   "cell_type": "code",
   "execution_count": null,
   "metadata": {},
   "outputs": [],
   "source": [
    "PATH_COST_CPP = \"/work/utox/users/helleboid_work_utox/OptiDopi/build/apps/spad_cost_function\"\n",
    "RES_FILE = \"RES/res_cost_func.csv\"\n",
    "\n",
    "os.makedirs(\"RES/\", exist_ok=True)\n",
    "\n",
    "def function_test_1d(length_intrinsic):\n",
    "    doping_acceptor = 17.0\n",
    "    subprocess.run([PATH_COST_CPP, f\"{length_intrinsic}\", f\"{doping_acceptor}\", RES_FILE])\n",
    "    length_intrinsic,doping_acceptor, BV,BrP,DW,BV_cost,BP_cost,DW_cost,total_cost = np.loadtxt(RES_FILE, delimiter=\",\", unpack=True)\n",
    "    print(f)\n",
    "    return total_cost\n",
    "\n",
    "def function_test_2d(PARAMS):\n",
    "    #print(PARAMS)\n",
    "    Y = []\n",
    "    for idx in range(len(PARAMS)):\n",
    "        length_intrinsic = PARAMS[idx,0]\n",
    "        #print(f'{length_intrinsic=}')\n",
    "        log_doping_acceptor =  PARAMS[idx,1]\n",
    "        subprocess.run([PATH_COST_CPP, f\"{length_intrinsic}\", f\"{log_doping_acceptor}\", RES_FILE])\n",
    "        length_intrinsic,doping_acceptor, BV,BrP,DW,BV_cost,BP_cost,DW_cost,total_cost = np.loadtxt(RES_FILE, delimiter=\",\", unpack=True)\n",
    "        Y.append(total_cost)\n",
    "        print(f\"Total cost: {total_cost}\")\n",
    "    return np.array(Y)\n",
    "\n",
    "vfunc = np.vectorize(function_test_1d)\n",
    "\n",
    "vfunc2d = np.vectorize(function_test_2d)\n"
   ]
  },
  {
   "cell_type": "code",
   "execution_count": null,
   "metadata": {},
   "outputs": [],
   "source": [
    "min_length_intrinsic = 0.0\n",
    "max_length_intrinsic = 1.0\n",
    "min_log_acceptor = 16.5\n",
    "max_log_acceptor = 19.0\n",
    "\n",
    "\n",
    "n_iter = 1000\n",
    "xtypes = [FLOAT, FLOAT]\n",
    "#mixint = MixedIntegerContext(xtypes, xlimits)\n",
    "xlimits = np.array([[min_length_intrinsic, max_length_intrinsic], [min_log_acceptor, max_log_acceptor]])\n",
    "\n",
    "qEI = \"KB\"\n",
    "sm = KRG(print_global=False)\n",
    "mixint = MixedIntegerContext(xtypes, xlimits)\n",
    "n_doe = 5\n",
    "sampling = LHS(xlimits=xlimits)\n",
    "xdoe = sampling(n_doe)\n",
    "ydoe = function_test_2d(xdoe)\n",
    "\n"
   ]
  },
  {
   "cell_type": "code",
   "execution_count": null,
   "metadata": {},
   "outputs": [],
   "source": [
    "criterion = \"SBO\"  #'EI' or 'SBO' or 'LCB'\n",
    "ego = EGO(n_iter=n_iter, criterion=criterion, xdoe=xdoe, xlimits=xlimits, xtypes=xtypes, qEI=qEI,\n",
    "          enable_tunneling=True)\n",
    "x_opt, y_opt, _, x_data, y_data = ego.optimize(fun=function_test_2d)"
   ]
  },
  {
   "cell_type": "code",
   "execution_count": null,
   "metadata": {},
   "outputs": [],
   "source": [
    "print(\"Minimum in x={} with f(x)={:.1f}\".format(x_opt, float(y_opt)))\n",
    "print(\"Minimum in typed x={}\".format(ego.mixint.cast_to_mixed_integer(x_opt)))\n",
    "\n",
    "min_ref = -15\n",
    "mini = np.zeros(n_iter)\n",
    "for k in range(n_iter):\n",
    "    mini[k] = np.log(np.abs(np.min(y_data[0 : k + n_doe - 1]) - min_ref))\n",
    "x_plot = np.linspace(1, n_iter + 0.5, n_iter)\n",
    "u = max(np.floor(max(mini)) + 1, -100)\n",
    "l = max(np.floor(min(mini)) - 0.2, -10)\n",
    "fig = plt.figure()\n",
    "axes = fig.add_axes([0.1, 0.1, 0.8, 0.8])\n",
    "axes.plot(x_plot, mini, color=\"r\")\n",
    "axes.set_ylim([l, u])\n",
    "plt.title(\"minimum convergence plot\", loc=\"center\")\n",
    "plt.xlabel(\"number of iterations\")\n",
    "plt.ylabel(\"log of the difference w.r.t the best\")\n",
    "plt.show()"
   ]
  },
  {
   "cell_type": "code",
   "execution_count": null,
   "metadata": {},
   "outputs": [],
   "source": []
  }
 ],
 "metadata": {
  "kernelspec": {
   "display_name": "Python 3",
   "language": "python",
   "name": "python3"
  },
  "language_info": {
   "codemirror_mode": {
    "name": "ipython",
    "version": 3
   },
   "file_extension": ".py",
   "mimetype": "text/x-python",
   "name": "python",
   "nbconvert_exporter": "python",
   "pygments_lexer": "ipython3",
   "version": "3.8.8"
  },
  "vscode": {
   "interpreter": {
    "hash": "3a45f6588c146a88407196641022ea045aa8d9112f76c45200dd5c3141264dd2"
   }
  }
 },
 "nbformat": 4,
 "nbformat_minor": 2
}
