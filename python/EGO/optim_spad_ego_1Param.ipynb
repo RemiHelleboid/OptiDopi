{
 "cells": [
  {
   "cell_type": "code",
   "execution_count": null,
   "metadata": {},
   "outputs": [],
   "source": [
    "import numpy as np\n",
    "import matplotlib.pyplot as plt\n",
    "import sys\n",
    "import matplotlib.animation as animation\n",
    "import glob, re, os\n",
    "import subprocess\n",
    "\n",
    "\n",
    "import scipy.linalg as lng\n",
    "\n",
    "from smt.applications import EGO\n",
    "from smt.surrogate_models import KRG\n",
    "from smt.sampling_methods import LHS\n",
    "from smt.applications import EGO\n",
    "from smt.surrogate_models import KRG, XSpecs\n",
    "\n",
    "\n",
    "import scienceplots\n",
    "plt.style.use('default')\n",
    "plt.style.use(['science', 'high-vis', 'grid'])"
   ]
  },
  {
   "cell_type": "code",
   "execution_count": null,
   "metadata": {},
   "outputs": [],
   "source": [
    "# PATH_BUILD_DIR = \"/work/utox/users/helleboid_work_utox/OptiDopi/build/\"\n",
    "# PATH_COST_CPP = \"/work/utox/users/helleboid_work_utox/OptiDopi/build/apps/spad_cost_function\"\n",
    "\n",
    "PATH_BUILD_DIR = \"/home/remi/DEV/OptiDopi/build/\"\n",
    "PATH_COST_CPP = \"/home/remi/DEV/OptiDopi/build/apps/spad_cost_function\"\n",
    "RES_FILE = \"RES/res_cost_func.csv\"\n",
    "os.makedirs(\"EGO_Results/\", exist_ok=True)\n",
    "# Recompile the code first.\n",
    "#subprocess.run([\"make\", f\"-j 32\"], cwd=PATH_BUILD_DIR)"
   ]
  },
  {
   "cell_type": "code",
   "execution_count": null,
   "metadata": {},
   "outputs": [],
   "source": [
    "def function_test_1d(doping_acceptor):\n",
    "    doping_donor = 20.0\n",
    "    length_intrinsic = 0.0\n",
    "    subprocess.run([PATH_COST_CPP, f\"{length_intrinsic}\", f\"{doping_donor}\",f\"{doping_acceptor}\", RES_FILE])\n",
    "    length_intrinsic, doping_donor, doping_acceptor, total_cost = np.loadtxt(RES_FILE, delimiter=\",\", unpack=True)\n",
    "    print(f\"Cost function: {total_cost}\")\n",
    "    return total_cost\n",
    "\n",
    "def function_test_2d(PARAMS):\n",
    "    #print(PARAMS)\n",
    "    Y = []\n",
    "    for idx in range(len(PARAMS)):\n",
    "        length_intrinsic = PARAMS[idx,0]\n",
    "        #print(f'{length_intrinsic=}')\n",
    "        log_doping_acceptor =  PARAMS[idx,1]\n",
    "        subprocess.run([PATH_COST_CPP, f\"{length_intrinsic}\", f\"{log_doping_acceptor}\", RES_FILE])\n",
    "        length_intrinsic,doping_acceptor, BV,BrP,DW,BV_cost,BP_cost,DW_cost,total_cost = np.loadtxt(RES_FILE, delimiter=\",\", unpack=True)\n",
    "        Y.append(total_cost)\n",
    "        print(f\"Total cost: {total_cost}\")\n",
    "    return np.array(Y)\n",
    "\n",
    "vfunc1d = np.vectorize(function_test_1d)\n",
    "\n",
    "vfunc2d = np.vectorize(function_test_2d)\n"
   ]
  },
  {
   "cell_type": "code",
   "execution_count": null,
   "metadata": {},
   "outputs": [],
   "source": [
    "min_length_intrinsic = 0.0\n",
    "max_length_intrinsic = 0.0\n",
    "min_log_acceptor = 16.5\n",
    "max_log_acceptor = 17.5\n",
    "\n",
    "\n",
    "n_iter = 100\n",
    "xlimits = np.array([[min_log_acceptor, max_log_acceptor]])\n",
    "xspecs = XSpecs(xlimits=xlimits)\n",
    "xdoe = np.atleast_2d(np.random.uniform(min_log_acceptor, max_log_acceptor, 2)).T\n",
    "n_doe = xdoe.size\n",
    "\n",
    "criterion = \"EI\"  #'EI' or 'SBO' or 'LCB'*"
   ]
  },
  {
   "cell_type": "code",
   "execution_count": null,
   "metadata": {},
   "outputs": [],
   "source": [
    "ego = EGO(\n",
    "    n_iter=n_iter,\n",
    "    criterion=criterion,\n",
    "    xdoe=xdoe,\n",
    "    surrogate=KRG(xspecs=xspecs, print_global=False),\n",
    ")\n",
    "\n",
    "x_opt, y_opt, _, x_data, y_data = ego.optimize(fun=vfunc1d)\n",
    "print(\"Minimum in x={:.1f} with f(x)={:.1f}\".format(float(x_opt), float(y_opt)))"
   ]
  },
  {
   "cell_type": "code",
   "execution_count": null,
   "metadata": {},
   "outputs": [],
   "source": [
    "x_line = np.linspace(min_log_acceptor, max_log_acceptor, 1000)\n",
    "y_line = vfunc1d(x_line)"
   ]
  },
  {
   "cell_type": "code",
   "execution_count": null,
   "metadata": {},
   "outputs": [],
   "source": [
    "x_min, y = x_line[np.argmin(y_line)], np.min(y_line)\n",
    "print(\"Minimum in x={:.1f} with f(x)={:.1f}\".format(float(x_min), float(y)))"
   ]
  },
  {
   "cell_type": "code",
   "execution_count": null,
   "metadata": {},
   "outputs": [],
   "source": [
    "min_y_line = np.min(y_line)\n",
    "min_y_data = np.min(y_data)\n",
    "min_y_opt = np.min(y_opt)\n",
    "\n",
    "min_global = np.min([min_y_line, min_y_data, min_y_opt])\n",
    "\n",
    "y_line = y_line - min_global + 1e-3\n",
    "y_data = y_data - min_global + 1e-3\n",
    "y_opt = y_opt - min_global + 1e-3\n",
    "\n",
    "print(f\"y_opt: {y_data}\")\n",
    "fig, axs = plt.subplots(1, 1)\n",
    "axs.plot(x_line, y_line, \".-\", label=\"Cost function\")\n",
    "axs.plot(x_data, y_data, \"o\", label=\"Data\")\n",
    "axs.plot(x_opt, y_opt, \"D\", label=\"Optimum\", c=\"y\")\n",
    "\n",
    "axs.set_xlabel(\"log(Acceptor)\")\n",
    "axs.set_ylabel(\"Cost function\")\n",
    "axs.set_yscale(\"log\")"
   ]
  },
  {
   "cell_type": "code",
   "execution_count": null,
   "metadata": {},
   "outputs": [],
   "source": []
  }
 ],
 "metadata": {
  "kernelspec": {
   "display_name": "Python 3",
   "language": "python",
   "name": "python3"
  },
  "language_info": {
   "codemirror_mode": {
    "name": "ipython",
    "version": 3
   },
   "file_extension": ".py",
   "mimetype": "text/x-python",
   "name": "python",
   "nbconvert_exporter": "python",
   "pygments_lexer": "ipython3",
   "version": "3.9.13"
  },
  "vscode": {
   "interpreter": {
    "hash": "3a45f6588c146a88407196641022ea045aa8d9112f76c45200dd5c3141264dd2"
   }
  }
 },
 "nbformat": 4,
 "nbformat_minor": 2
}
