{
 "cells": [
  {
   "cell_type": "code",
   "execution_count": 18,
   "metadata": {},
   "outputs": [],
   "source": [
    "import numpy as np\n",
    "import matplotlib.pyplot as plt\n",
    "import sys\n",
    "import matplotlib.animation as animation\n",
    "import glob, re, os\n",
    "\n",
    "import scienceplots\n",
    "plt.style.use('default')\n",
    "plt.style.use(['science', 'high-vis', 'grid'])"
   ]
  },
  {
   "cell_type": "code",
   "execution_count": 19,
   "metadata": {},
   "outputs": [],
   "source": [
    "DIR = \"../build/results/thread_0/\""
   ]
  },
  {
   "cell_type": "code",
   "execution_count": 20,
   "metadata": {},
   "outputs": [
    {
     "name": "stdout",
     "output_type": "stream",
     "text": [
      "Number of files  251\n"
     ]
    }
   ],
   "source": [
    "list_doping_files = glob.glob(DIR + \"doping*.csv\")\n",
    "# Sort the files by the time creation in unix time using os.path.getmtime\n",
    "list_doping_files.sort(key=os.path.getmtime)\n",
    "print(\"Number of files \", len(list_doping_files))\n"
   ]
  },
  {
   "cell_type": "code",
   "execution_count": 21,
   "metadata": {},
   "outputs": [
    {
     "name": "stdout",
     "output_type": "stream",
     "text": [
      " Iteration 250 / 251"
     ]
    },
    {
     "data": {
      "image/png": "[encoded data removed]",
      "text/plain": [
       "<Figure size 350x262 with 1 Axes>"
      ]
     },
     "metadata": {},
     "output_type": "display_data"
    }
   ],
   "source": [
    "# Preload the data\n",
    "x_list = []\n",
    "all_doping = []\n",
    "\n",
    "for file in list_doping_files:\n",
    "    x, acceptor, donor, doping = np.loadtxt(file, delimiter=',', unpack=True, skiprows=1)\n",
    "    x_list.append(x)\n",
    "    all_doping.append(np.abs(doping))\n",
    "\n",
    "# Annimate the doping profile\n",
    "fig, ax = plt.subplots()\n",
    "ax.set_xlabel(\"x $[nm]$\")\n",
    "ax.set_ylabel(\"Doping $[cm^{-3}]$\")\n",
    "# ax.set_title(\"Iteration: 0\")\n",
    "ax.set_yscale('log')\n",
    "ax.set_ylim(1e12, 5e20)\n",
    "ax.set_xlim(0, 10)\n",
    "fig.suptitle(\"Iteration: 0\")\n",
    "\n",
    "fig.tight_layout()\n",
    "\n",
    "# Animate the doping profile. We show the N lasts iteration of the doping profile, with alpha decreasing from 1 to 0\n",
    "\n",
    "N = 25\n",
    "lines = [ax.plot([], [], alpha=1 - i/N, ls=\"-\", c=\"b\")[0] for i in range(N)]\n",
    "\n",
    "def init():\n",
    "    for line in lines:\n",
    "        line.set_data([], [])\n",
    "    return lines\n",
    "\n",
    "def animate(i):\n",
    "    print(f\"\\r Iteration {i} / {len(list_doping_files)}\", end=\"\", flush=True)\n",
    "    for k in range(1, N):\n",
    "        if i - k >= 0:\n",
    "            lines[k].set_data(x_list[i-k], all_doping[i-k])\n",
    "            lines[k].set_alpha(0.7*(1 - (k/N)**2))\n",
    "            lines[k].set_linewidth(0.7*(1 - k/N))\n",
    "            lines[k].set_zorder(9 - k)\n",
    "    lines[0].set_data(x_list[i], all_doping[i])\n",
    "    lines[0].set_linewidth(2)\n",
    "    lines[0].set_alpha(0.8)\n",
    "    lines[0].set_zorder(9)\n",
    "    lines[0].set_color(\"r\")\n",
    "    fig.suptitle(\"Iteration: {}\".format(i))\n",
    "    return lines\n",
    "\n",
    "anim = animation.FuncAnimation(fig, animate, init_func=init, frames=len(list_doping_files), interval=100, blit=True)\n",
    "anim.save('../build/doping_profile.mp4', fps=5, extra_args=['-vcodec', 'libx264'], dpi=300)"
   ]
  },
  {
   "cell_type": "code",
   "execution_count": 22,
   "metadata": {},
   "outputs": [
    {
     "name": "stderr",
     "output_type": "stream",
     "text": [
      "<ipython-input-22-860b2a6eb0c0>:2: UserWarning: loadtxt: Empty input file: \"../build/results/thread_0/history_optimization.csv\"\n",
      "  data = np.loadtxt(file_hist, delimiter=',', unpack=True, skiprows=1)\n"
     ]
    }
   ],
   "source": [
    "file_hist = DIR + \"history_optimization.csv\"\n",
    "data = np.loadtxt(file_hist, delimiter=',', unpack=True, skiprows=1)"
   ]
  },
  {
   "cell_type": "code",
   "execution_count": 23,
   "metadata": {},
   "outputs": [
    {
     "ename": "IndexError",
     "evalue": "index 0 is out of bounds for axis 0 with size 0",
     "output_type": "error",
     "traceback": [
      "\u001b[0;31m---------------------------------------------------------------------------\u001b[0m",
      "\u001b[0;31mIndexError\u001b[0m                                Traceback (most recent call last)",
      "\u001b[0;32m<ipython-input-23-f2a951a47af0>\u001b[0m in \u001b[0;36m<module>\u001b[0;34m\u001b[0m\n\u001b[0;32m----> 1\u001b[0;31m \u001b[0miteration\u001b[0m\u001b[0;34m,\u001b[0m\u001b[0mcost\u001b[0m\u001b[0;34m,\u001b[0m\u001b[0mtemperature\u001b[0m \u001b[0;34m=\u001b[0m \u001b[0mdata\u001b[0m\u001b[0;34m[\u001b[0m\u001b[0;36m0\u001b[0m\u001b[0;34m]\u001b[0m\u001b[0;34m,\u001b[0m \u001b[0mdata\u001b[0m\u001b[0;34m[\u001b[0m\u001b[0;36m1\u001b[0m\u001b[0;34m]\u001b[0m\u001b[0;34m,\u001b[0m \u001b[0mdata\u001b[0m\u001b[0;34m[\u001b[0m\u001b[0;36m2\u001b[0m\u001b[0;34m]\u001b[0m\u001b[0;34m\u001b[0m\u001b[0;34m\u001b[0m\u001b[0m\n\u001b[0m\u001b[1;32m      2\u001b[0m \u001b[0;31m# Make the cost function always positive\u001b[0m\u001b[0;34m\u001b[0m\u001b[0;34m\u001b[0m\u001b[0;34m\u001b[0m\u001b[0m\n\u001b[1;32m      3\u001b[0m \u001b[0;32mif\u001b[0m \u001b[0mnp\u001b[0m\u001b[0;34m.\u001b[0m\u001b[0mmin\u001b[0m\u001b[0;34m(\u001b[0m\u001b[0mcost\u001b[0m\u001b[0;34m)\u001b[0m \u001b[0;34m<\u001b[0m \u001b[0;36m0\u001b[0m\u001b[0;34m:\u001b[0m\u001b[0;34m\u001b[0m\u001b[0;34m\u001b[0m\u001b[0m\n\u001b[1;32m      4\u001b[0m     \u001b[0mcost\u001b[0m \u001b[0;34m=\u001b[0m \u001b[0mcost\u001b[0m \u001b[0;34m-\u001b[0m \u001b[0mnp\u001b[0m\u001b[0;34m.\u001b[0m\u001b[0mmin\u001b[0m\u001b[0;34m(\u001b[0m\u001b[0mcost\u001b[0m\u001b[0;34m)\u001b[0m \u001b[0;34m+\u001b[0m \u001b[0;36m1\u001b[0m\u001b[0;34m\u001b[0m\u001b[0;34m\u001b[0m\u001b[0m\n",
      "\u001b[0;31mIndexError\u001b[0m: index 0 is out of bounds for axis 0 with size 0"
     ]
    }
   ],
   "source": [
    "iteration,cost,temperature = data[0], data[1], data[2]\n",
    "# Make the cost function always positive\n",
    "if np.min(cost) < 0:\n",
    "    cost = cost - np.min(cost) + 1"
   ]
  },
  {
   "cell_type": "code",
   "execution_count": null,
   "metadata": {},
   "outputs": [],
   "source": [
    "# Plot the cost function\n",
    "fig, ax = plt.subplots()\n",
    "ax.set_xlabel(\"Iteration\")\n",
    "ax.set_ylabel(\"Cost\")\n",
    "ax.set_title(\"Cost function\")\n",
    "ax.plot(iteration[10:], cost[10:], '-')\n",
    "ax.set_yscale('log')\n",
    "axTemp = ax.twinx()\n",
    "axTemp.set_ylabel(\"Temperature\")\n",
    "axTemp.set_yscale('log')\n",
    "axTemp.plot(iteration[10:], temperature[10:], '-', color='red')\n"
   ]
  },
  {
   "cell_type": "code",
   "execution_count": null,
   "metadata": {},
   "outputs": [],
   "source": []
  }
 ],
 "metadata": {
  "kernelspec": {
   "display_name": "Python 3",
   "language": "python",
   "name": "python3"
  },
  "language_info": {
   "codemirror_mode": {
    "name": "ipython",
    "version": 3
   },
   "file_extension": ".py",
   "mimetype": "text/x-python",
   "name": "python",
   "nbconvert_exporter": "python",
   "pygments_lexer": "ipython3",
   "version": "3.8.8"
  },
  "vscode": {
   "interpreter": {
    "hash": "4b4a56d5ef8b4286ff93eb88683cdca628821376dc55dff168258c1f2d95891b"
   }
  }
 },
 "nbformat": 4,
 "nbformat_minor": 2
}
