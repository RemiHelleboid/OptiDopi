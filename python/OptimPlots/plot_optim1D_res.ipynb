{
 "cells": [
  {
   "cell_type": "code",
   "execution_count": null,
   "metadata": {},
   "outputs": [],
   "source": [
    "import numpy as np\n",
    "import matplotlib.pyplot as plt\n",
    "import sys\n",
    "import matplotlib.animation as animation\n",
    "import glob, re\n",
    "\n",
    "import scienceplots\n",
    "plt.style.use('default')\n",
    "plt.style.use(['science', 'high-vis', 'grid'])"
   ]
  },
  {
   "cell_type": "code",
   "execution_count": null,
   "metadata": {},
   "outputs": [],
   "source": [
    "DIR = \"../build/\"\n",
    "file = \"history_optimization.csv\""
   ]
  },
  {
   "cell_type": "code",
   "execution_count": null,
   "metadata": {},
   "outputs": [],
   "source": [
    "iteration,cost,temperature,x0 = np.loadtxt(DIR+file, delimiter=',', unpack=True, skiprows=1)"
   ]
  },
  {
   "cell_type": "code",
   "execution_count": null,
   "metadata": {},
   "outputs": [],
   "source": [
    "fig, ax = plt.subplots(1, 1, figsize=(6, 4))\n",
    "ax.plot(iteration, cost, '*-', label='cost')\n",
    "ax.set_xlabel('iteration')\n",
    "ax.set_ylabel('cost')\n",
    "ax.legend()\n",
    "fig.tight_layout()\n",
    "\n",
    "fig, ax = plt.subplots(1, 1, figsize=(6, 4))\n",
    "ax.plot(iteration, temperature, '-', label='temperature')\n",
    "ax.set_xlabel('iteration')\n",
    "ax.set_ylabel('temperature')\n",
    "ax.legend()\n",
    "fig.tight_layout()\n"
   ]
  },
  {
   "cell_type": "code",
   "execution_count": null,
   "metadata": {},
   "outputs": [],
   "source": [
    "def rastrigin(x):\n",
    "    x = np.array(x)\n",
    "    return 10*len(x) + np.sum(x**2 - 10*np.cos(2*np.pi*x))"
   ]
  },
  {
   "cell_type": "code",
   "execution_count": null,
   "metadata": {},
   "outputs": [],
   "source": [
    "# Plot path of optimization on the cost function\n",
    "fig, ax = plt.subplots(1, 1, figsize=(6, 4))\n",
    "x = np.linspace(-11, 11, 1000)\n",
    "y = [rastrigin([xi]) for xi in x]\n",
    "ax.plot(x, y, label='cost')\n",
    "\n",
    "# Add points\n",
    "colors = np.linspace(0, 1, len(iteration))\n",
    "ax.scatter(x0, cost, label='points', c=colors, cmap='viridis')\n"
   ]
  },
  {
   "cell_type": "code",
   "execution_count": null,
   "metadata": {},
   "outputs": [],
   "source": [
    "# Animate the path\n",
    "fig, ax = plt.subplots(1, 1, figsize=(6, 4))\n",
    "x = np.linspace(-11, 11, 1000)\n",
    "y = [rastrigin([xi]) for xi in x]\n",
    "\n",
    "ax.set_xlim(-10, 10)\n",
    "ax.set_ylim(-1, 100)\n",
    "ax.set_xlabel('x')\n",
    "ax.set_ylabel('cost')\n",
    "ax.set_title('Rastrigin function')\n",
    "ax.plot(x, y, label='cost')\n",
    "\n",
    "point, = ax.plot([], [], 'o', color='red')\n",
    "\n",
    "def init():\n",
    "    point.set_data([], [])\n",
    "    return point,\n",
    "\n",
    "def animate(i):\n",
    "    print(f\"\\r{i}/{len(iteration)}\", end=\"\")\n",
    "    point.set_data(x0[i], cost[i])\n",
    "    return point,\n",
    "\n",
    "anim = animation.FuncAnimation(fig, animate, init_func=init, frames=len(iteration), interval=100, blit=True) \n",
    "anim.save('optimization_path.mp4', fps=30,  dpi=300)"
   ]
  },
  {
   "cell_type": "code",
   "execution_count": null,
   "metadata": {},
   "outputs": [],
   "source": []
  },
  {
   "cell_type": "code",
   "execution_count": null,
   "metadata": {},
   "outputs": [],
   "source": []
  },
  {
   "cell_type": "code",
   "execution_count": null,
   "metadata": {},
   "outputs": [],
   "source": []
  }
 ],
 "metadata": {
  "kernelspec": {
   "display_name": "base",
   "language": "python",
   "name": "python3"
  },
  "language_info": {
   "codemirror_mode": {
    "name": "ipython",
    "version": 3
   },
   "file_extension": ".py",
   "mimetype": "text/x-python",
   "name": "python",
   "nbconvert_exporter": "python",
   "pygments_lexer": "ipython3",
   "version": "3.9.13 (main, Aug 25 2022, 23:26:10) \n[GCC 11.2.0]"
  },
  "vscode": {
   "interpreter": {
    "hash": "4b4a56d5ef8b4286ff93eb88683cdca628821376dc55dff168258c1f2d95891b"
   }
  }
 },
 "nbformat": 4,
 "nbformat_minor": 2
}
