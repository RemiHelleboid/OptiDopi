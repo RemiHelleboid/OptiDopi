{
 "cells": [
  {
   "cell_type": "code",
   "execution_count": null,
   "metadata": {},
   "outputs": [],
   "source": [
    "import numpy as np\n",
    "import matplotlib.pyplot as plt\n",
    "import matplotlib.colors as colors\n",
    "\n",
    "import sys\n",
    "import matplotlib.animation as animation\n",
    "import glob, re\n",
    "\n",
    "import scienceplots\n",
    "plt.style.use('default')\n",
    "plt.style.use(['science', 'high-vis', 'grid'])"
   ]
  },
  {
   "cell_type": "code",
   "execution_count": null,
   "metadata": {},
   "outputs": [],
   "source": [
    "def generate_hetmap_imshow(ax, X, Y, Z, minZ=None, maxZ=None, cmap='jet', logscale=False, save=None, isolines=None):\n",
    "    if minZ is None:\n",
    "        minZ = np.nanmin(Z)\n",
    "    if maxZ is None:\n",
    "        maxZ = np.nanmax(Z)\n",
    "    if logscale:\n",
    "        norm = colors.LogNorm(vmin=minZ, vmax=maxZ)\n",
    "    else:\n",
    "        norm = colors.Normalize(vmin=minZ, vmax=maxZ)\n",
    "    im = ax.imshow(Z, cmap=cmap, norm=norm, extent=[np.min(X), np.max(X), np.min(Y), np.max(Y)], aspect='auto', origin='lower', interpolation='gaussian')\n",
    "    ax.set_xlabel('Length [$\\mu$m]')\n",
    "    ax.set_ylabel('log(Doping) [log cm$^{-3}$]')\n",
    "    # ax.set_title('Cost function')\n",
    "    fig.colorbar(im, ax=ax)"
   ]
  },
  {
   "cell_type": "code",
   "execution_count": null,
   "metadata": {},
   "outputs": [],
   "source": [
    "DIR = \"../build/ParticleSwarmResults\"\n",
    "part_files = glob.glob(DIR + \"/part*.csv\")\n",
    "part_files.sort(key=lambda f: int(re.sub('\\D', '', f)))\n",
    "\n",
    "print(f\"Found {len(part_files)} files\")"
   ]
  },
  {
   "cell_type": "code",
   "execution_count": null,
   "metadata": {},
   "outputs": [],
   "source": [
    "NbPart = len(part_files)\n",
    "Data0 = np.loadtxt(part_files[0], delimiter=',', skiprows=1)\n",
    "print(Data0.shape)\n",
    "# Data is iter, x0, x1, ..., xN, v0, v1, ..., vN, best_x0, best_x1, ..., best_xN, best_f\n",
    "Dim = int((Data0.shape[1] - 2) / 3)\n",
    "NbIter = Data0.shape[0]\n",
    "print(f\"Dimension: {Dim}, NbIter: {NbIter}\")\n",
    "\n",
    "NB_PART = len(part_files)\n",
    "NbPart = NB_PART\n",
    "part_files = part_files[:NB_PART]\n",
    "\n",
    "X = np.zeros((NbIter, NbPart, Dim))\n",
    "V = np.zeros((NbIter, NbPart, Dim))\n",
    "BestX = np.zeros((NbIter, NbPart, Dim))\n",
    "BestF = np.zeros((NbIter, NbPart))\n",
    "\n",
    "for i, f in enumerate(part_files):\n",
    "    Data = np.loadtxt(f, delimiter=',', skiprows=1)\n",
    "    X[:,i,:] = Data[:,1:Dim+1]\n",
    "    V[:,i,:] = Data[:,Dim+1:2*Dim+1]\n",
    "    BestX[:,i,:] = Data[:,2*Dim+1:3*Dim+1]\n",
    "    BestF[:,i] = Data[:,3*Dim+1]\n",
    "\n",
    "    "
   ]
  },
  {
   "cell_type": "code",
   "execution_count": null,
   "metadata": {},
   "outputs": [],
   "source": [
    "# Plot the history of the first particle\n",
    "fig, ax = plt.subplots(1, 1, figsize=(6, 4))\n",
    "ax.set_xlabel(\"Length Intrinsic ($\\mu$m)\")\n",
    "ax.set_ylabel(\"$\\log(NetDopping) \\,, (log(cm^{-3}))$\")\n",
    "ax.set_title(\"Particle history\")\n",
    "ax.plot(X[:,0,0], X[:,0,1], '.-', alpha=0.5, label=\"Position\")\n",
    "\n",
    "# Quiver plot of the velocity of the first particle\n",
    "fig, ax = plt.subplots(1, 1, figsize=(6, 4))\n",
    "ax.set_xlabel(\"Length Intrinsic ($\\mu$m)\")\n",
    "ax.set_ylabel(\"$\\log(NetDopping) \\,, (log(cm^{-3}))$\")\n",
    "ax.set_title(\"Particle velocity\")\n",
    "ax.quiver(X[:,0,0], X[:,0,1], V[:,0,0], V[:,0,1], alpha=0.5, label=\"Velocity\", scale=10, scale_units='xy', angles='xy', width=0.005)\n",
    "ax.scatter(X[:,0,0], X[:,0,1], alpha=0.5, label=\"Position\")\n"
   ]
  },
  {
   "cell_type": "code",
   "execution_count": null,
   "metadata": {},
   "outputs": [],
   "source": [
    "# Animate the particles\n",
    "\n",
    "BnD = 12\n",
    "fig, ax = plt.subplots(1, 1, figsize=(6, 4))\n",
    "ax.set_xlabel(\"Length Intrinsic ($\\mu$m)\")\n",
    "ax.set_ylabel(\"$\\log(NetDopping) \\,, (log(cm^{-3}))$\")\n",
    "# ax.set_title(\"Particle swarm\")\n",
    "ax.set_xlim(0, 1.)\n",
    "ax.set_ylim(16, 19)\n",
    "# ax.set_aspect('equal')\n",
    "fig.tight_layout()\n",
    "\n",
    "line, = ax.plot([], [], '.', alpha=0.8, markersize=4, color='#66e0ff', markeredgecolor='k')\n",
    "qr = ax.quiver(X[0,:,0], X[0,:,1], V[0,:,0], V[0,:,1], color='#8080ff',\n",
    "               alpha=0.9, angles='xy', scale_units='xy', scale=10,\n",
    "              width=0.005)\n",
    "\n",
    "# Add cost function as background\n",
    "file = \"../build/main_cost_function2.csv\"\n",
    "length_intrinsic, doping_acceptor, BV, BP, DW, BV_COST, BP_COST, DW_COST, COST = np.loadtxt(file, delimiter=',', unpack=True, skiprows=1)\n",
    "\n",
    "unique_length_intrinsic = np.unique(length_intrinsic)\n",
    "unique_doping_acceptor = np.unique(doping_acceptor)\n",
    "ISO = False\n",
    "Xm, Ym = np.meshgrid(unique_length_intrinsic, unique_doping_acceptor)\n",
    "COSTs = COST.reshape(len(unique_length_intrinsic), len(unique_doping_acceptor)).T\n",
    "generate_hetmap_imshow(ax, Xm, Ym, COSTs, None, 400, cmap='jet', logscale=False, save='COST_heatmap.pdf', isolines=ISO)\n",
    "print(np.nanmin(COSTs), np.nanmax(COSTs))\n",
    "\n",
    "def init():\n",
    "    line.set_data([], [])\n",
    "    return line,\n",
    "\n",
    "def animate(i):\n",
    "    print(f\"\\rAnimation: {i}/{NbIter}\", end=\"\")\n",
    "    line.set_data(X[i,:,0], X[i,:,1])\n",
    "    qr.set_offsets(X[i,:,:])\n",
    "    qr.set_UVC(V[i,:,0], V[i,:,1])\n",
    "    return line,\n",
    "\n",
    "anim = animation.FuncAnimation(fig, animate, init_func=init, frames=len(V), interval=100, blit=True)\n",
    "plt.show()\n",
    "anim.save('../build/ParticleSwarmAnimation.mp4', fps=10, extra_args=['-vcodec', 'libx264'], dpi=300)"
   ]
  },
  {
   "cell_type": "code",
   "execution_count": null,
   "metadata": {},
   "outputs": [],
   "source": [
    "global_hist = \"../build/ParticleSwarmResults/global_swarm.csv\"\n",
    "iteration,best_x_00,best_x_01,best_fitness = np.loadtxt(global_hist, skiprows=1, delimiter=\",\", unpack=True)"
   ]
  },
  {
   "cell_type": "code",
   "execution_count": null,
   "metadata": {},
   "outputs": [],
   "source": [
    "fig, ax = plt.subplots()\n",
    "ax.plot(iteration, best_fitness)\n",
    "ax.set_xlabel(\"Iterations\")\n",
    "ax.set_ylabel(\"Cost function\")"
   ]
  },
  {
   "cell_type": "code",
   "execution_count": null,
   "metadata": {},
   "outputs": [],
   "source": [
    "fig, ax = plt.subplots()\n",
    "ax.plot(best_x_00[, best_x_01, '*-', alpha=0.5)\n",
    "ax.set_xlabel(\"Length Intrinsic ($\\mu$m)\")\n",
    "ax.set_ylabel(\"$\\log(NetDopping) \\,, (log(cm^{-3}))$\")\n",
    "# ax.set_title(\"Particle swarm\")\n",
    "ax.set_xlim(0, 1.)\n",
    "ax.set_ylim(16, 19)"
   ]
  },
  {
   "cell_type": "code",
   "execution_count": null,
   "metadata": {},
   "outputs": [],
   "source": []
  }
 ],
 "metadata": {
  "kernelspec": {
   "display_name": "Python 3",
   "language": "python",
   "name": "python3"
  },
  "language_info": {
   "codemirror_mode": {
    "name": "ipython",
    "version": 3
   },
   "file_extension": ".py",
   "mimetype": "text/x-python",
   "name": "python",
   "nbconvert_exporter": "python",
   "pygments_lexer": "ipython3",
   "version": "3.9.13"
  },
  "vscode": {
   "interpreter": {
    "hash": "4b4a56d5ef8b4286ff93eb88683cdca628821376dc55dff168258c1f2d95891b"
   }
  }
 },
 "nbformat": 4,
 "nbformat_minor": 2
}
