{
 "cells": [
  {
   "cell_type": "code",
   "execution_count": null,
   "metadata": {},
   "outputs": [],
   "source": [
    "import numpy as np\n",
    "import matplotlib.pyplot as plt\n",
    "import sys\n",
    "import matplotlib.animation as animation\n",
    "import glob, re\n",
    "\n",
    "import scienceplots\n",
    "plt.style.use('default')\n",
    "plt.style.use(['science', 'high-vis', 'grid'])"
   ]
  },
  {
   "cell_type": "code",
   "execution_count": null,
   "metadata": {},
   "outputs": [],
   "source": [
    "DIR = \"../build/\"\n",
    "file = \"history.csv\""
   ]
  },
  {
   "cell_type": "code",
   "execution_count": null,
   "metadata": {},
   "outputs": [],
   "source": [
    "data = np.loadtxt(DIR+file, delimiter=',', skiprows=1)\n",
    "\n",
    "# 2D cost function\n",
    "x, y, z = np.loadtxt(DIR+\"cost_function2d.csv\", delimiter=',', skiprows=1, unpack=True)\n",
    "x_u = np.unique(x)\n",
    "y_u = np.unique(y)\n",
    "X, Y = np.meshgrid(x_u, y_u)\n",
    "Z = z.reshape(X.shape)\n",
    "# Plot\n",
    "fig = plt.figure(figsize=(8, 8))\n",
    "ax = fig.add_subplot(111)\n",
    "ax.set_xlabel(r'$x$')\n",
    "ax.set_ylabel(r'$y$')\n",
    "ax.set_title(r'2D cost function')\n",
    "ax.contourf(X, Y, Z, 100, cmap='viridis')\n"
   ]
  },
  {
   "cell_type": "code",
   "execution_count": null,
   "metadata": {},
   "outputs": [],
   "source": [
    "iteration,cost,temperature,x0 = data.T"
   ]
  },
  {
   "cell_type": "code",
   "execution_count": null,
   "metadata": {},
   "outputs": [],
   "source": [
    "# Animation of the optimization\n",
    "def f(x):\n",
    "    alpha = 4 * np.abs(x)\n",
    "    beta = 2\n",
    "    y = x**2 + alpha * np.sin(np.pi*x) ** 3 + beta * np.cos(np.pi*x) ** 3\n",
    "    return y\n",
    "\n",
    "# First ax is the path of the optimization, second ax is the cost function\n",
    "fig, ax = plt.subplots(1, 2, figsize=(9, 4))\n",
    "ax[0].set_xlabel('$x$')\n",
    "ax[0].set_ylabel('$f(x)$')\n",
    "ax[0].set_title('Optimization path')\n",
    "\n",
    "ax[1].set_xlim(0, 1.1 * np.max(iteration))\n",
    "ax[1].set_ylim(0, 1.1 * np.max(cost))\n",
    "ax[1].set_xlabel('Iteration')\n",
    "ax[1].set_ylabel('Cost')\n",
    "ax[1].set_title('Cost function')\n",
    "\n",
    "\n",
    "line, = ax[0].plot([], [], lw=2)\n",
    "point, = ax[0].plot([], [], 'o', color='red')\n",
    "cost_plot, = ax[1].plot([], [], lw=0.5)\n",
    "\n",
    "x = np.linspace(-12, 12, 1000)\n",
    "y = f(x)\n",
    "ax[0].set_xlim(np.min(x)*1.1, np.max(x)*1.1)\n",
    "ax[0].set_ylim(min(np.min(y)*1.1, -10), np.max(y)*1.1)\n",
    "\n",
    "fig.tight_layout()\n",
    "\n",
    "\n",
    "def init():\n",
    "    line.set_data([], [])\n",
    "    point.set_data([], [])\n",
    "    cost_plot.set_data([], [])\n",
    "    return line, point, cost_plot\n",
    "\n",
    "\n",
    "def animate(i):\n",
    "    print(f\"\\rIteration: {i} / {len(x0)}\", end=\"\", flush=True)\n",
    "    line.set_data(x, y)\n",
    "    point.set_data(x0[i], f(x0[i]))\n",
    "    cost_plot.set_data(iteration[:i], cost[:i])\n",
    "    return line, point, cost_plot\n",
    "\n",
    "\n",
    "anim = animation.FuncAnimation(fig, animate, init_func=init, frames=len(x0), interval=40, blit=True)\n",
    "anim.save('optimization.mp4', fps=10, extra_args=['-vcodec', 'libx264'], dpi=300)"
   ]
  },
  {
   "cell_type": "code",
   "execution_count": null,
   "metadata": {},
   "outputs": [],
   "source": [
    "# Plot solution path\n",
    "fig, ax = plt.subplots(1, 1, figsize=(6, 4))\n",
    "ax.plot(iteration, x0, '-', label='x0')\n",
    "ax.set_xlabel('Iteration')\n",
    "ax.set_ylabel('x0')\n",
    "ax.legend()\n",
    "fig.tight_layout()"
   ]
  },
  {
   "cell_type": "code",
   "execution_count": null,
   "metadata": {},
   "outputs": [],
   "source": [
    "# Plot the cost function\n",
    "fig, ax = plt.subplots(1, 1, figsize=(6, 4))\n",
    "ax.plot(iteration, cost, '-', label='cost')\n",
    "ax.set_xlabel('Iteration')\n",
    "ax.set_ylabel('Cost')\n",
    "ax.legend()\n",
    "fig.tight_layout()\n"
   ]
  },
  {
   "cell_type": "code",
   "execution_count": null,
   "metadata": {},
   "outputs": [],
   "source": [
    "# Plot the temperature\n",
    "fig, ax = plt.subplots(1, 1, figsize=(6, 4))\n",
    "ax.plot(iteration, temperature, '-', label='temperature')\n",
    "ax.set_xlabel('Iteration')\n",
    "ax.set_ylabel('Temperature')\n",
    "ax.legend()\n",
    "fig.tight_layout()\n"
   ]
  },
  {
   "cell_type": "code",
   "execution_count": null,
   "metadata": {},
   "outputs": [],
   "source": [
    "def cost_function(x):\n",
    "    alpha = 4 * np.abs(x)\n",
    "    beta = 2\n",
    "    y = x**2 + alpha * np.sin(np.pi*x) ** 3 + beta * np.cos(np.pi*x) ** 3\n",
    "    return y\n",
    "fig, ax = plt.subplots(1, 1, figsize=(6, 4))\n",
    "ax.plot(x, cost_function(x), '-', label='cost')\n",
    "\n",
    "# Find the minimum\n",
    "np.linspace(-10, 10, 1000)\n",
    "min_x = x[np.argmin(cost_function(x))]\n",
    "min_y = cost_function(min_x)\n",
    "print(\"Minimum: x = %.2f, y = %.2f\" % (min_x, min_y))\n"
   ]
  },
  {
   "cell_type": "code",
   "execution_count": null,
   "metadata": {},
   "outputs": [],
   "source": []
  }
 ],
 "metadata": {
  "kernelspec": {
   "display_name": "base",
   "language": "python",
   "name": "python3"
  },
  "language_info": {
   "codemirror_mode": {
    "name": "ipython",
    "version": 3
   },
   "file_extension": ".py",
   "mimetype": "text/x-python",
   "name": "python",
   "nbconvert_exporter": "python",
   "pygments_lexer": "ipython3",
   "version": "3.9.13 (main, Aug 25 2022, 23:26:10) \n[GCC 11.2.0]"
  },
  "vscode": {
   "interpreter": {
    "hash": "4b4a56d5ef8b4286ff93eb88683cdca628821376dc55dff168258c1f2d95891b"
   }
  }
 },
 "nbformat": 4,
 "nbformat_minor": 2
}
