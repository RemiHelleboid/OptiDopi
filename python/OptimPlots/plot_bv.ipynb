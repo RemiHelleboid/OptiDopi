{
 "cells": [
  {
   "cell_type": "code",
   "execution_count": null,
   "metadata": {},
   "outputs": [],
   "source": [
    "import numpy as np\n",
    "import matplotlib.pyplot as plt\n",
    "import sys\n",
    "import matplotlib.animation as animation\n",
    "import glob, re\n",
    "\n",
    "import scienceplots\n",
    "plt.style.use('default')\n",
    "plt.style.use(['science', 'high-vis'])"
   ]
  },
  {
   "cell_type": "code",
   "execution_count": null,
   "metadata": {},
   "outputs": [],
   "source": [
    "DIR = \"../build/\"\n",
    "files = glob.glob(DIR + \"BV_list_*.csv\")\n",
    "\n",
    "def extract_donors(filename):\n",
    "    donor = re.findall(r'\\d+\\.?\\d*e?\\+?\\-?\\d*', filename)\n",
    "    return float(donor[0])"
   ]
  },
  {
   "cell_type": "code",
   "execution_count": null,
   "metadata": {},
   "outputs": [],
   "source": [
    "Acceptor, LengthIntrinsic, BV, BrP, DepletionWidth = np.loadtxt(DIR + \"BV_list.csv\", delimiter=',', unpack=True, skiprows=1)"
   ]
  },
  {
   "cell_type": "code",
   "execution_count": null,
   "metadata": {},
   "outputs": [],
   "source": [
    "# Heat map of BV\n",
    "Acceptors = np.unique(Acceptor)\n",
    "LengthIntrinsics = np.unique(LengthIntrinsic)\n",
    "BV = BV.reshape(len(Acceptors), len(LengthIntrinsics))\n",
    "BrP = BrP.reshape(len(Acceptors), len(LengthIntrinsics))\n",
    "DepletionWidth = DepletionWidth.reshape(len(Acceptors), len(LengthIntrinsics))\n",
    "# Transpose\n",
    "BV = BV.T\n",
    "BrP = BrP.T\n",
    "DepletionWidth = DepletionWidth.T\n",
    "STEP = len(Acceptors) // 4\n",
    "\n",
    "extent = [Acceptors[0], Acceptors[-1], LengthIntrinsics[0], LengthIntrinsics[-1]]\n",
    "fig, ax = plt.subplots(figsize=(8, 6))\n",
    "im = ax.imshow(BV, extent=extent, aspect='auto', origin='lower', cmap='jet')\n",
    "ax.set_xscale('log')\n",
    "ax.set_xlabel('Acceptor')\n",
    "ax.set_ylabel('LengthIntrinsic')\n",
    "ax.set_title('BV')\n",
    "fig.colorbar(im, ax=ax, label='BV')\n",
    "plt.show()\n"
   ]
  },
  {
   "cell_type": "code",
   "execution_count": null,
   "metadata": {},
   "outputs": [],
   "source": [
    "# BrP figure\n",
    "fig, ax = plt.subplots(figsize=(8, 6))\n",
    "im = ax.imshow(BrP, extent=extent, aspect='auto', origin='lower', cmap='jet')\n",
    "ax.set_xscale('log')\n",
    "ax.set_xlabel('Acceptor')\n",
    "ax.set_ylabel('LengthIntrinsic')\n",
    "ax.set_title('BrP')\n",
    "fig.colorbar(im, ax=ax, label='BrP')\n",
    "plt.show()\n"
   ]
  },
  {
   "cell_type": "code",
   "execution_count": null,
   "metadata": {},
   "outputs": [],
   "source": [
    "# DepletionWidth figure\n",
    "fig, ax = plt.subplots(figsize=(8, 6))\n",
    "im = ax.imshow(DepletionWidth, extent=extent, aspect='auto', origin='lower', cmap='jet')\n",
    "ax.set_xscale('log')\n",
    "ax.set_xlabel('Acceptor')\n",
    "ax.set_ylabel('LengthIntrinsic')\n",
    "ax.set_title('DepletionWidth')\n",
    "fig.colorbar(im, ax=ax, label='DepletionWidth')\n",
    "plt.show()\n"
   ]
  },
  {
   "cell_type": "code",
   "execution_count": null,
   "metadata": {},
   "outputs": [],
   "source": []
  },
  {
   "cell_type": "code",
   "execution_count": null,
   "metadata": {},
   "outputs": [],
   "source": []
  }
 ],
 "metadata": {
  "kernelspec": {
   "display_name": "base",
   "language": "python",
   "name": "python3"
  },
  "language_info": {
   "codemirror_mode": {
    "name": "ipython",
    "version": 3
   },
   "file_extension": ".py",
   "mimetype": "text/x-python",
   "name": "python",
   "nbconvert_exporter": "python",
   "pygments_lexer": "ipython3",
   "version": "3.9.13 (main, Aug 25 2022, 23:26:10) \n[GCC 11.2.0]"
  },
  "vscode": {
   "interpreter": {
    "hash": "4b4a56d5ef8b4286ff93eb88683cdca628821376dc55dff168258c1f2d95891b"
   }
  }
 },
 "nbformat": 4,
 "nbformat_minor": 2
}
