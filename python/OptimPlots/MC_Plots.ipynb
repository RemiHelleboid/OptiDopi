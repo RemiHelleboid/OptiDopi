{
 "cells": [
  {
   "cell_type": "code",
   "execution_count": null,
   "metadata": {},
   "outputs": [],
   "source": [
    "import numpy as np\n",
    "import matplotlib.pyplot as plt\n",
    "import sys, os\n",
    "import matplotlib.animation as animation\n",
    "import glob, re, os\n",
    "import pandas as pd\n",
    "import seaborn as sns\n",
    "\n",
    "\n",
    "import scienceplots\n",
    "plt.style.use('default')\n",
    "plt.style.use(['science', 'ieee','high-vis', 'grid'])\n",
    "\n",
    "\n",
    "\n",
    "%matplotlib inline"
   ]
  },
  {
   "cell_type": "code",
   "execution_count": null,
   "metadata": {},
   "outputs": [],
   "source": [
    "# print rc params\n",
    "for key, item in plt.rcParams.items():\n",
    "    print(key, item)\n",
    "plt.rcParams['figure.dpi'] = 300"
   ]
  },
  {
   "cell_type": "code",
   "execution_count": null,
   "metadata": {},
   "outputs": [],
   "source": [
    "# Get lastly created folder in a directory\n",
    "def get_last_folder(dir):\n",
    "    list_of_subfolders = [f.path for f in os.scandir(dir) if f.is_dir()]\n",
    "    latest_subfolder = max(list_of_subfolders, key=os.path.getmtime)\n",
    "    return latest_subfolder"
   ]
  },
  {
   "cell_type": "code",
   "execution_count": null,
   "metadata": {},
   "outputs": [],
   "source": [
    "dataset_path_dir = \"../../build/DATASET_COMPLEX_SPAD/\"\n",
    "list_of_files = glob.glob(dataset_path_dir + \"*.csv\")\n",
    "latest_file = max(list_of_files, key=os.path.getctime)\n",
    "dataset_path = latest_file\n",
    "print(\"Dataset path: \", dataset_path)\n",
    "df = pd.read_csv(dataset_path, sep=\",\", header=0)"
   ]
  },
  {
   "cell_type": "code",
   "execution_count": null,
   "metadata": {},
   "outputs": [],
   "source": [
    "idx_BV = df.columns.get_loc(\"BreakdownVoltage\")\n",
    "idxBrP = idx_BV + 1\n",
    "idxDW = idx_BV + 2\n",
    "idxDoping = np.arange(2, idx_BV, 1)\n",
    "NbDoping = len(idxDoping)\n",
    "print(\"NbDoping: \", NbDoping)\n",
    "\n",
    "df.dropna()\n",
    "df.tail()"
   ]
  },
  {
   "cell_type": "code",
   "execution_count": null,
   "metadata": {},
   "outputs": [],
   "source": [
    "pp = sns.pairplot(df[[\"TotalLength\", \"DonorLength\", \"BreakdownVoltage\", \"BreakdownProbability\", \"DepletionWidth\"]], diag_kind=\"kde\")\n",
    "plt.show()"
   ]
  },
  {
   "cell_type": "code",
   "execution_count": null,
   "metadata": {},
   "outputs": [],
   "source": [
    "NbPart = len(df)\n",
    "TotalLength = df[\"TotalLength\"].to_numpy()\n",
    "\n",
    "Acceptors = df[df.iloc[:, 2:idx_BV//2+1].columns].to_numpy()\n",
    "Donors = df[df.iloc[:, idx_BV//2+1:idx_BV].columns].to_numpy()\n",
    "print(Acceptors.shape)\n",
    "print(Donors.shape)\n",
    "NetDoping = Donors - Acceptors\n",
    "print(NetDoping.shape)\n",
    "\n",
    "\n",
    "NXY = 4\n",
    "iter0 = 0\n",
    "fig, axs = plt.subplots(NXY, NXY, sharex=True, sharey=True, figsize=(10, 10))\n",
    "\n",
    "\n",
    "for ax_ in axs.flat:\n",
    "    ax_.set_yscale('log')\n",
    "    # ax_.set_xticklabels([])\n",
    "    # ax_.set_yticklabels([])\n",
    "    ax_.grid()\n",
    "\n",
    "cmap = plt.get_cmap('jet')\n",
    "NbPartPlot = min(NXY*NXY, NbPart)\n",
    "print(\"NbPartPlot: \", NbPartPlot)\n",
    "for i in range(NbPartPlot):\n",
    "    X = np.linspace(0, TotalLength[i], NbDoping//2)\n",
    "    p = i % NXY\n",
    "    q = i // NXY\n",
    "    c = cmap(np.random.rand())\n",
    "    axs[p, q].plot(X, Acceptors[i, :], color='r')\n",
    "    axs[p, q].plot(X, Donors[i, :], color='b')\n",
    "    axs[p, q].set_ylim(1e13, 1e21)\n",
    "\n",
    "fig.tight_layout()\n",
    "plt.show()\n",
    "# fig.savefig(\"MC_Sampling_DopingProfile_Fancy.png\", dpi=300)\n",
    "# fig.savefig(\"MC_Sampling_DopingProfile_Fancy.pdf\", dpi=300)"
   ]
  },
  {
   "cell_type": "code",
   "execution_count": null,
   "metadata": {},
   "outputs": [],
   "source": [
    "NbPart = len(df)\n",
    "TotalLength = df[\"TotalLength\"].to_numpy()\n",
    "\n",
    "Acceptors = df[df.iloc[:, 2:idx_BV//2+1].columns].to_numpy()\n",
    "Donors = df[df.iloc[:, idx_BV//2+1:idx_BV].columns].to_numpy()\n",
    "print(Acceptors.shape)\n",
    "print(Donors.shape)\n",
    "NetDoping = Donors - Acceptors\n",
    "print(NetDoping.shape)\n",
    "\n",
    "\n",
    "NXY = 10\n",
    "iter0 = 0\n",
    "fig, axs = plt.subplots(NXY, NXY, sharex=True, sharey=True, figsize=(10, 10))\n",
    "\n",
    "\n",
    "for ax_ in axs.flat:\n",
    "    ax_.set_yscale('log')\n",
    "    ax_.set_xticklabels([])\n",
    "    ax_.set_yticklabels([])\n",
    "    ax_.grid()\n",
    "\n",
    "cmap = plt.get_cmap('jet')\n",
    "NbPartPlot = min(NXY*NXY, NbPart)\n",
    "print(\"NbPartPlot: \", NbPartPlot)\n",
    "for i in range(NbPartPlot):\n",
    "    X = np.linspace(0, TotalLength[i], NbDoping//2)\n",
    "    p = i % NXY\n",
    "    q = i // NXY\n",
    "    c = cmap(np.random.rand())\n",
    "    axs[p, q].plot(X, Acceptors[i, :], color='r')\n",
    "    axs[p, q].plot(X, Donors[i, :], color='b')\n",
    "    axs[p, q].set_ylim(1e13, 1e21)\n",
    "\n",
    "fig.tight_layout()\n",
    "plt.show()\n",
    "# fig.savefig(\"MC_Sampling_DopingProfile_Fancy.png\", dpi=300)\n",
    "# fig.savefig(\"MC_Sampling_DopingProfile_Fancy.pdf\", dpi=300)"
   ]
  },
  {
   "cell_type": "code",
   "execution_count": null,
   "metadata": {},
   "outputs": [],
   "source": [
    "TotalLength = df[\"TotalLength\"].to_numpy()\n",
    "DonorLength = df[\"DonorLength\"].to_numpy()\n",
    "BreakdownVoltage = df[\"BreakdownVoltage\"].to_numpy()\n",
    "BreakdownProbability = df[\"BreakdownProbability\"].to_numpy()\n",
    "DepletionWidth = df[\"DepletionWidth\"].to_numpy()\n",
    "Jitter50 = df[\"Jitter50\"].to_numpy()\n",
    "Jitter10 = df[\"Jitter90\"].to_numpy()\n"
   ]
  },
  {
   "cell_type": "code",
   "execution_count": null,
   "metadata": {},
   "outputs": [],
   "source": [
    "DepletionWidth"
   ]
  },
  {
   "cell_type": "code",
   "execution_count": null,
   "metadata": {},
   "outputs": [],
   "source": [
    "fig, axs = plt.subplots()\n",
    "axs.scatter(TotalLength, BreakdownVoltage, marker='.', s=0.5, edgecolors='k', linewidths=0.1)\n",
    "axs.set_xlabel(\"Total Length ($\\mu$m)\") \n",
    "axs.set_ylabel(\"Breakdown Voltage (V)\")\n",
    "\n",
    "fig, axs = plt.subplots()\n",
    "axs.scatter(DonorLength, BreakdownProbability, marker='.', s=0.5, edgecolors='k', linewidths=0.1)\n",
    "axs.set_xlabel(\"Donor Length ($\\mu$m)\")\n",
    "axs.set_ylabel(\"Breakdown Probability\")\n",
    "\n",
    "fig, axs = plt.subplots()\n",
    "axs.scatter(DonorLength, DepletionWidth, marker='.', s=0.5, edgecolors='k', linewidths=0.1)\n",
    "axs.set_xlabel(\"Donor Length ($\\mu$m)\")\n",
    "axs.set_ylabel(\"Depletion Width ($\\mu$m)\")\n",
    "\n",
    "fig, axs = plt.subplots()\n",
    "axs.scatter(BreakdownVoltage, DepletionWidth, marker='.', s=0.5, edgecolors='k', linewidths=0.1)\n",
    "axs.set_xlabel(\"Donor Length ($\\mu$m)\")\n",
    "axs.set_ylabel(\"Depletion Width ($\\mu$m)\")\n",
    "\n",
    "fig, axs = plt.subplots()\n",
    "axs.scatter(DepletionWidth, Jitter50, marker='.', s=3.5, edgecolors='k', linewidths=0.1)\n",
    "axs.set_xlabel(\"Depletion Width ($\\mu$m)\")\n",
    "axs.set_ylabel(\"Jitter50 (ps)\")\n"
   ]
  },
  {
   "cell_type": "code",
   "execution_count": null,
   "metadata": {},
   "outputs": [],
   "source": []
  },
  {
   "cell_type": "code",
   "execution_count": null,
   "metadata": {},
   "outputs": [],
   "source": []
  },
  {
   "cell_type": "code",
   "execution_count": null,
   "metadata": {},
   "outputs": [],
   "source": []
  }
 ],
 "metadata": {
  "kernelspec": {
   "display_name": "base",
   "language": "python",
   "name": "python3"
  },
  "language_info": {
   "codemirror_mode": {
    "name": "ipython",
    "version": 3
   },
   "file_extension": ".py",
   "mimetype": "text/x-python",
   "name": "python",
   "nbconvert_exporter": "python",
   "pygments_lexer": "ipython3",
   "version": "3.9.13"
  }
 },
 "nbformat": 4,
 "nbformat_minor": 2
}
