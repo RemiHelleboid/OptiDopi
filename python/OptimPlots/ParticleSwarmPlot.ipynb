{
 "cells": [
  {
   "cell_type": "code",
   "execution_count": null,
   "metadata": {},
   "outputs": [],
   "source": [
    "import numpy as np\n",
    "import matplotlib.pyplot as plt\n",
    "import sys\n",
    "import matplotlib.animation as animation\n",
    "import glob, re\n",
    "\n",
    "import scienceplots\n",
    "plt.style.use('default')\n",
    "plt.style.use(['science', 'high-vis', 'grid'])"
   ]
  },
  {
   "cell_type": "code",
   "execution_count": null,
   "metadata": {},
   "outputs": [],
   "source": [
    "def rastrigin(x):\n",
    "    x = np.array(x)\n",
    "    return 10*len(x) + np.sum(x**2 - 10*np.cos(2*np.pi*x))"
   ]
  },
  {
   "cell_type": "code",
   "execution_count": null,
   "metadata": {},
   "outputs": [],
   "source": [
    "DIR = \"../build/ParticleSwarmResults\"\n",
    "part_files = glob.glob(DIR + \"/part*.csv\")\n",
    "part_files.sort(key=lambda f: int(re.sub('\\D', '', f)))\n",
    "\n",
    "print(f\"Found {len(part_files)} files\")"
   ]
  },
  {
   "cell_type": "code",
   "execution_count": null,
   "metadata": {},
   "outputs": [],
   "source": [
    "NbPart = len(part_files)\n",
    "Data0 = np.loadtxt(part_files[0], delimiter=',', skiprows=1)\n",
    "print(Data0.shape)\n",
    "# Data is iter, x0, x1, ..., xN, v0, v1, ..., vN, best_x0, best_x1, ..., best_xN, best_f\n",
    "Dim = int((Data0.shape[1] - 2) / 3)\n",
    "NbIter = Data0.shape[0]\n",
    "print(f\"Dimension: {Dim}, NbIter: {NbIter}\")\n",
    "\n",
    "NB_PART = len(part_files)\n",
    "NbPart = NB_PART\n",
    "part_files = part_files[:NB_PART]\n",
    "\n",
    "X = np.zeros((NbIter, NbPart, Dim))\n",
    "V = np.zeros((NbIter, NbPart, Dim))\n",
    "BestX = np.zeros((NbIter, NbPart, Dim))\n",
    "BestF = np.zeros((NbIter, NbPart))\n",
    "\n",
    "for i, f in enumerate(part_files):\n",
    "    Data = np.loadtxt(f, delimiter=',', skiprows=1)\n",
    "    X[:,i,:] = Data[:,1:Dim+1]\n",
    "    V[:,i,:] = Data[:,Dim+1:2*Dim+1]\n",
    "    BestX[:,i,:] = Data[:,2*Dim+1:3*Dim+1]\n",
    "    BestF[:,i] = Data[:,3*Dim+1]\n",
    "\n",
    "    "
   ]
  },
  {
   "cell_type": "code",
   "execution_count": null,
   "metadata": {},
   "outputs": [],
   "source": [
    "# Plot the history of the first particle\n",
    "fig, ax = plt.subplots(1, 1, figsize=(6, 4))\n",
    "ax.set_xlabel(\"Iteration\")\n",
    "ax.set_ylabel(\"Position\")\n",
    "ax.set_title(\"Particle history\")\n",
    "ax.plot(X[:,0,0], X[:,0,1], '.-', alpha=0.5, label=\"Position\")\n",
    "\n",
    "# Quiver plot of the velocity of the first particle\n",
    "fig, ax = plt.subplots(1, 1, figsize=(6, 4))\n",
    "ax.set_xlabel(\"Iteration\")\n",
    "ax.set_ylabel(\"Position\")\n",
    "ax.set_title(\"Particle velocity\")\n",
    "ax.quiver(X[:,0,0], X[:,0,1], V[:,0,0], V[:,0,1], alpha=0.5, label=\"Velocity\", scale=10, scale_units='xy', angles='xy', width=0.005)\n",
    "ax.scatter(X[:,0,0], X[:,0,1], alpha=0.5, label=\"Position\")\n"
   ]
  },
  {
   "cell_type": "code",
   "execution_count": null,
   "metadata": {},
   "outputs": [],
   "source": [
    "# Animate the particles\n",
    "\n",
    "BnD = 12\n",
    "fig, ax = plt.subplots(1, 1, figsize=(6, 4))\n",
    "ax.set_xlabel(\"x\")\n",
    "ax.set_ylabel(\"y\")\n",
    "ax.set_title(\"Particle swarm\")\n",
    "ax.set_xlim(-BnD, BnD)\n",
    "ax.set_ylim(-BnD, BnD)\n",
    "ax.set_aspect('equal')\n",
    "fig.tight_layout()\n",
    "\n",
    "# Plot the rastrigin function\n",
    "x = np.linspace(-BnD, BnD, 1000)\n",
    "y = np.linspace(-BnD, BnD, 1000)\n",
    "A, B = np.meshgrid(x, y)\n",
    "Z = [rastrigin([a, b]) for a, b in zip(A.flatten(), B.flatten())]\n",
    "Z = np.array(Z).reshape(A.shape)\n",
    "ax.contour(A, B, Z, levels=20, alpha=0.9, cmap='jet', zorder=0)\n",
    "\n",
    "line, = ax.plot([], [], 'o', alpha=0.9, markersize=2, color='k')\n",
    "qr = ax.quiver(X[0,:,0], X[0,:,1], V[0,:,0], V[0,:,1], color='r', alpha=0.9, angles='xy', scale_units='xy', scale=10)\n",
    "\n",
    "def init():\n",
    "    line.set_data([], [])\n",
    "    return line,\n",
    "\n",
    "def animate(i):\n",
    "    print(f\"\\rAnimation: {i}/{NbIter}\", end=\"\")\n",
    "    line.set_data(X[i,:,0], X[i,:,1])\n",
    "    qr.set_offsets(X[i,:,:])\n",
    "    qr.set_UVC(V[i,:,0], V[i,:,1])\n",
    "    return line,\n",
    "\n",
    "anim = animation.FuncAnimation(fig, animate, init_func=init, frames=1000, interval=100, blit=True)\n",
    "plt.show()\n",
    "anim.save('ParticleSwarmAnimation.mp4', fps=10, extra_args=['-vcodec', 'libx264'], dpi=300)"
   ]
  },
  {
   "cell_type": "code",
   "execution_count": null,
   "metadata": {},
   "outputs": [],
   "source": []
  }
 ],
 "metadata": {
  "kernelspec": {
   "display_name": "base",
   "language": "python",
   "name": "python3"
  },
  "language_info": {
   "codemirror_mode": {
    "name": "ipython",
    "version": 3
   },
   "file_extension": ".py",
   "mimetype": "text/x-python",
   "name": "python",
   "nbconvert_exporter": "python",
   "pygments_lexer": "ipython3",
   "version": "3.9.13"
  },
  "vscode": {
   "interpreter": {
    "hash": "4b4a56d5ef8b4286ff93eb88683cdca628821376dc55dff168258c1f2d95891b"
   }
  }
 },
 "nbformat": 4,
 "nbformat_minor": 2
}
