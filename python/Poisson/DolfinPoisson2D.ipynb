{
 "cells": [
  {
   "cell_type": "code",
   "execution_count": null,
   "metadata": {},
   "outputs": [],
   "source": [
    "import numpy as np\n",
    "\n",
    "import ufl\n",
    "from dolfinx import fem, io, mesh, plot\n",
    "from ufl import ds, dx, grad, inner\n",
    "\n",
    "from mpi4py import MPI\n",
    "from petsc4py.PETSc import ScalarType"
   ]
  },
  {
   "cell_type": "code",
   "execution_count": null,
   "metadata": {},
   "outputs": [],
   "source": [
    "msh = mesh.create_rectangle(comm=MPI.COMM_WORLD,\n",
    "                            points=((0.0, 0.0), (4.0, 1.0)), n=(50, 50),\n",
    "                            cell_type=mesh.CellType.triangle,)\n",
    "V = fem.FunctionSpace(msh, (\"Lagrange\", 1))"
   ]
  },
  {
   "cell_type": "code",
   "execution_count": null,
   "metadata": {},
   "outputs": [],
   "source": [
    "anode = mesh.locate_entities_boundary(msh, dim=1,\n",
    "                                       marker=lambda x: np.isclose(x[0], 0.0))\n",
    "cathode = mesh.locate_entities_boundary(msh, dim=1,\n",
    "                                       marker=lambda x: np.isclose(x[0], 1.0))"
   ]
  },
  {
   "cell_type": "code",
   "execution_count": null,
   "metadata": {},
   "outputs": [],
   "source": [
    "dofs1 = fem.locate_dofs_topological(V=V, entity_dim=1, entities=anode)\n",
    "bc_anode = fem.dirichletbc(value=ScalarType(0), dofs=dofs1, V=V)\n",
    "\n",
    "dofs2 = fem.locate_dofs_topological(V=V, entity_dim=1, entities=anode)\n",
    "bc_cathode = fem.dirichletbc(value=ScalarType(0), dofs=dofs2, V=V)"
   ]
  },
  {
   "cell_type": "code",
   "execution_count": null,
   "metadata": {},
   "outputs": [],
   "source": [
    "u = ufl.TrialFunction(V)\n",
    "v = ufl.TestFunction(V)\n",
    "x = ufl.SpatialCoordinate(msh)\n",
    "f = x[1] * x[1]\n",
    "g = 1.0\n",
    "a = inner(grad(u), grad(v)) * dx\n",
    "L = inner(f, v) * dx + inner(g, v) * ds"
   ]
  },
  {
   "cell_type": "code",
   "execution_count": null,
   "metadata": {},
   "outputs": [],
   "source": [
    "problem = fem.petsc.LinearProblem(a, L, bcs=[bc_anode, bc_cathode], petsc_options={\"ksp_type\": \"preonly\", \"pc_type\": \"lu\"})\n",
    "uh = problem.solve()"
   ]
  },
  {
   "cell_type": "code",
   "execution_count": null,
   "metadata": {},
   "outputs": [],
   "source": [
    "with io.XDMFFile(msh.comm, \"out_poisson/poisson.xdmf\", \"w\") as file:\n",
    "    file.write_mesh(msh)\n",
    "    file.write_function(uh)\n",
    "\n"
   ]
  },
  {
   "cell_type": "code",
   "execution_count": null,
   "metadata": {},
   "outputs": [],
   "source": [
    "try:\n",
    "    import pyvista\n",
    "    cells, types, x = plot.create_vtk_mesh(V)\n",
    "    grid = pyvista.UnstructuredGrid(cells, types, x)\n",
    "    grid.point_data[\"u\"] = uh.x.array.real\n",
    "    grid.set_active_scalars(\"u\")\n",
    "    plotter = pyvista.Plotter()\n",
    "    plotter.add_mesh(grid, show_edges=False)\n",
    "    warped = grid.warp_by_scalar()\n",
    "    # plotter.add_mesh(warped)\n",
    "    plotter.show()\n",
    "except ModuleNotFoundError:\n",
    "    print(\"'pyvista' is required to visualise the solution\")\n",
    "    print(\"Install 'pyvista' with pip: 'python3 -m pip install pyvista'\")"
   ]
  },
  {
   "cell_type": "code",
   "execution_count": null,
   "metadata": {},
   "outputs": [],
   "source": [
    "uh.x"
   ]
  },
  {
   "cell_type": "code",
   "execution_count": null,
   "metadata": {},
   "outputs": [],
   "source": []
  }
 ],
 "metadata": {
  "kernelspec": {
   "display_name": "base",
   "language": "python",
   "name": "python3"
  },
  "language_info": {
   "codemirror_mode": {
    "name": "ipython",
    "version": 3
   },
   "file_extension": ".py",
   "mimetype": "text/x-python",
   "name": "python",
   "nbconvert_exporter": "python",
   "pygments_lexer": "ipython3",
   "version": "3.10.9"
  }
 },
 "nbformat": 4,
 "nbformat_minor": 2
}
