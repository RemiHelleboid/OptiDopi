{
 "cells": [
  {
   "cell_type": "code",
   "execution_count": 8,
   "metadata": {},
   "outputs": [],
   "source": [
    "import numpy as np\n",
    "import matplotlib.pyplot as plt\n",
    "import sys\n",
    "import matplotlib.animation as animation\n",
    "import glob, re\n",
    "\n",
    "import scienceplots\n",
    "plt.style.use('default')\n",
    "plt.style.use(['science', 'high-vis', 'grid'])"
   ]
  },
  {
   "cell_type": "code",
   "execution_count": 9,
   "metadata": {},
   "outputs": [],
   "source": [
    "file = \"../build/main_cost_function.csv\"\n",
    "length_intrinsic,doping_acceptor,cost = np.loadtxt(file, delimiter=',', unpack=True, skiprows=1)"
   ]
  },
  {
   "cell_type": "code",
   "execution_count": 11,
   "metadata": {},
   "outputs": [
    {
     "name": "stdout",
     "output_type": "stream",
     "text": [
      "[[1.10000e+10 1.10000e+10 1.10000e+10 ... 5.51629e+01 5.69076e+01\n",
      "  5.69076e+01]\n",
      " [1.10000e+10 1.10000e+10 1.10000e+10 ... 3.69556e+01 3.69556e+01\n",
      "  3.69556e+01]\n",
      " [1.10000e+10 1.10000e+10 1.10000e+10 ... 2.09013e+01 2.09013e+01\n",
      "  2.09013e+01]\n",
      " ...\n",
      " [1.10000e+10 1.10000e+10 1.10000e+10 ... 1.10000e+10 1.10000e+10\n",
      "  1.10000e+10]\n",
      " [1.10000e+10 1.10000e+10 1.10000e+10 ... 1.10000e+10 1.10000e+10\n",
      "  1.10000e+10]\n",
      " [1.10000e+10 1.10000e+10 1.10000e+10 ... 1.10000e+10 1.10000e+10\n",
      "  1.10000e+10]]\n"
     ]
    },
    {
     "data": {
      "image/png": "[encoded data removed]",
      "text/plain": [
       "<Figure size 350x262.5 with 2 Axes>"
      ]
     },
     "metadata": {},
     "output_type": "display_data"
    }
   ],
   "source": [
    "unique_length_intrinsic = np.unique(length_intrinsic)\n",
    "unique_doping_acceptor = np.unique(doping_acceptor)\n",
    "\n",
    "# Create a meshgrid\n",
    "X, Y = np.meshgrid(unique_length_intrinsic, unique_doping_acceptor)\n",
    "\n",
    "# Create a 2D array of the cost function\n",
    "cost = cost.reshape(len(unique_doping_acceptor), len(unique_length_intrinsic))\n",
    "print(cost)\n",
    "\n",
    "# Plot the heatmap\n",
    "fig, ax = plt.subplots()\n",
    "im = ax.pcolormesh(X, Y, cost, cmap='viridis', vmin=np.min(cost), vmax=100)\n",
    "\n",
    "# Create colorbar\n",
    "cbar = fig.colorbar(im, ax=ax)\n",
    "\n",
    "# Set the labels\n",
    "ax.set_xlabel('Length of intrinsic region [nm]')\n",
    "ax.set_ylabel('Doping of acceptor [cm$^{-3}$]')\n",
    "cbar.set_label('Cost function')\n",
    "\n",
    "# Show the minima\n",
    "minima = np.argmin(cost)\n",
    "minima_x = unique_length_intrinsic[minima % len(unique_length_intrinsic)]\n",
    "minima_y = unique_doping_acceptor[minima // len(unique_length_intrinsic)]\n",
    "ax.scatter(minima_x, minima_y, marker='x', color='red', s=100, label='Minima')\n",
    "\n",
    "# Save the figure\n",
    "plt.savefig('paper_heatmap_cf.pdf', bbox_inches='tight')"
   ]
  },
  {
   "cell_type": "code",
   "execution_count": null,
   "metadata": {},
   "outputs": [],
   "source": []
  }
 ],
 "metadata": {
  "kernelspec": {
   "display_name": "base",
   "language": "python",
   "name": "python3"
  },
  "language_info": {
   "codemirror_mode": {
    "name": "ipython",
    "version": 3
   },
   "file_extension": ".py",
   "mimetype": "text/x-python",
   "name": "python",
   "nbconvert_exporter": "python",
   "pygments_lexer": "ipython3",
   "version": "3.9.13"
  },
  "orig_nbformat": 4,
  "vscode": {
   "interpreter": {
    "hash": "4b4a56d5ef8b4286ff93eb88683cdca628821376dc55dff168258c1f2d95891b"
   }
  }
 },
 "nbformat": 4,
 "nbformat_minor": 2
}
