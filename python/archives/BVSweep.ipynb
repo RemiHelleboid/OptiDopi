{
 "cells": [
  {
   "cell_type": "code",
   "execution_count": null,
   "metadata": {},
   "outputs": [],
   "source": [
    "import numpy as np\n",
    "import matplotlib.pyplot as plt\n",
    "import sys, os, glob\n",
    "import matplotlib.animation as animation\n",
    "import glob, re\n",
    "\n",
    "import scienceplots\n",
    "plt.style.use('default')\n",
    "plt.style.use(['science', 'high-vis', 'grid'])\n",
    "plt.rcParams['figure.figsize'] = [8, 6]"
   ]
  },
  {
   "cell_type": "code",
   "execution_count": null,
   "metadata": {},
   "outputs": [],
   "source": [
    "!ls BV_list*.csv"
   ]
  },
  {
   "cell_type": "code",
   "execution_count": null,
   "metadata": {},
   "outputs": [],
   "source": [
    "file = \"BV_list.csv\"\n",
    "Acceptor,L_intrinsic,BV,BrP,Depletion = np.loadtxt(file,delimiter=',',skiprows=1,unpack=True)"
   ]
  },
  {
   "cell_type": "code",
   "execution_count": null,
   "metadata": {},
   "outputs": [],
   "source": [
    "fig, axs = plt.subplots(1, 2, sharey=True)\n",
    "\n",
    "axs[0].scatter(Acceptor, BV, c='r', label='Acceptor', s=1, marker='.')\n",
    "axs[0].set_xscale('log')\n",
    "axs[0].set_xlabel('P-Level (cm$^{-3}$)')\n",
    "axs[0].set_ylabel('Breakdown Voltage (V)')\n",
    "# axs[0].set_title('Breakdown Voltage vs Acceptor Concentration')\n",
    "\n",
    "axs[1].scatter(L_intrinsic, BV, c='b', label='BV', s=1, marker='.')\n",
    "axs[1].set_xlabel('ILT ($\\mu$m)')\n",
    "# axs[1].set_title('Breakdown Voltage vs Intrinsic Layer Thickness')"
   ]
  },
  {
   "cell_type": "code",
   "execution_count": null,
   "metadata": {},
   "outputs": [],
   "source": [
    "fig, axs = plt.subplots(1, 1, sharey=True)\n",
    "\n",
    "levels = np.arange(10, 30, 2)\n",
    "m = axs.tricontourf(np.log10(Acceptor),L_intrinsic,BV, 310, vmin=10, vmax=30)\n",
    "mm = axs.tricontour(np.log10(Acceptor),L_intrinsic,BV, 310, colors='k', levels=levels)\n",
    "axs.clabel(mm, fmt='%2.1f', colors='w', fontsize=14)\n",
    "axs.set_xlabel('Acceptor Concentration (cm$^{-3}$)')\n",
    "axs.set_ylabel('Intrinsic Carrier Density (cm$^{-3}$)')\n",
    "\n",
    "fig.colorbar(m, ax=axs)\n"
   ]
  },
  {
   "cell_type": "code",
   "execution_count": null,
   "metadata": {},
   "outputs": [],
   "source": [
    "fig, axs = plt.subplots(1, 1, sharey=True)\n",
    "\n",
    "levels = np.arange(10, 30, 2)\n",
    "m = axs.tricontourf(np.log10(Acceptor),L_intrinsic,BrP*100, 310)\n",
    "mm = axs.tricontour(np.log10(Acceptor),L_intrinsic,BV, 310, colors='k', levels=levels)\n",
    "axs.clabel(mm, fmt='%2.1f', colors='k', fontsize=14)\n",
    "axs.set_xlabel('Acceptor Concentration (cm$^{-3}$)')\n",
    "axs.set_ylabel('Intrinsic Carrier Density (cm$^{-3}$)')\n",
    "\n",
    "# Show the max point BrP for a BV between 18 and 22\n",
    "\n",
    "\n",
    "\n",
    "fig.colorbar(m, ax=axs)"
   ]
  },
  {
   "cell_type": "code",
   "execution_count": null,
   "metadata": {},
   "outputs": [],
   "source": [
    "fig, axs = plt.subplots(1, 1, sharey=True)\n",
    "\n",
    "levels = np.arange(10, 30, 2)\n",
    "m = axs.tricontourf(np.log10(Acceptor),L_intrinsic,Depletion*1e6, 310)\n",
    "mm = axs.tricontour(np.log10(Acceptor),L_intrinsic,BV, 310, colors='k', levels=levels)\n",
    "axs.clabel(mm, fmt='%2.1f', colors='k', fontsize=14)\n",
    "axs.set_xlabel('Acceptor Concentration (cm$^{-3}$)')\n",
    "axs.set_ylabel('Intrinsic Carrier Density (cm$^{-3}$)')\n",
    "\n",
    "fig.colorbar(m, ax=axs)"
   ]
  },
  {
   "cell_type": "code",
   "execution_count": null,
   "metadata": {},
   "outputs": [],
   "source": []
  }
 ],
 "metadata": {
  "kernelspec": {
   "display_name": "base",
   "language": "python",
   "name": "python3"
  },
  "language_info": {
   "codemirror_mode": {
    "name": "ipython",
    "version": 3
   },
   "file_extension": ".py",
   "mimetype": "text/x-python",
   "name": "python",
   "nbconvert_exporter": "python",
   "pygments_lexer": "ipython3",
   "version": "3.9.13"
  }
 },
 "nbformat": 4,
 "nbformat_minor": 2
}
