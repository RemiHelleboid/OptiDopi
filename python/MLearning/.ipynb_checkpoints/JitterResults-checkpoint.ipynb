{
 "cells": [
  {
   "cell_type": "code",
   "execution_count": null,
   "id": "2b91165a",
   "metadata": {},
   "outputs": [],
   "source": [
    "import numpy as np\n",
    "import matplotlib.pyplot as plt\n",
    "import sys\n",
    "import matplotlib.animation as animation\n",
    "import glob, re, os\n",
    "import pandas as pd\n",
    "import seaborn as sns\n",
    "\n",
    "\n",
    "import scienceplots\n",
    "plt.style.use(['science', 'ieee', 'high-vis', 'grid'])"
   ]
  },
  {
   "cell_type": "code",
   "execution_count": null,
   "id": "86faa407",
   "metadata": {},
   "outputs": [],
   "source": [
    "# Get lastly created folder in a directory\n",
    "def get_last_folder(dir):\n",
    "    list_of_subfolders = [f.path for f in os.scandir(dir) if f.is_dir()]\n",
    "    latest_subfolder = max(list_of_subfolders, key=os.path.getmtime)\n",
    "    return latest_subfolder"
   ]
  },
  {
   "cell_type": "code",
   "execution_count": null,
   "id": "70564fc8",
   "metadata": {},
   "outputs": [],
   "source": [
    "PSO_DIR = get_last_folder(\"../../build/results_pso/\")\n",
    "DIR = PSO_DIR\n",
    "jitter_files = glob.glob(DIR + \"/BEST/*AvalancheTimes.csv\")\n",
    "jitter_files.sort(key=lambda f: int(re.sub('\\D', '', f)))\n",
    "\n",
    "print(f\"Found {len(jitter_files)} files\")\n",
    "print(jitter_files)\n"
   ]
  },
  {
   "cell_type": "code",
   "execution_count": null,
   "id": "0c9c3732",
   "metadata": {},
   "outputs": [],
   "source": [
    "ListTimes50 = []\n",
    "ListTimes90 = []\n",
    "ListTimes95 = []\n",
    "ListIters = [0, 10, 50, 100, 500]\n",
    "for file in jitter_files:\n",
    "    times_to_avalanche = np.loadtxt(file, skiprows=1) * 1e9\n",
    "    CumTime50 = np.percentile(times_to_avalanche, 50)\n",
    "    CumTime90 = np.percentile(times_to_avalanche, 90)\n",
    "    CumTime95 = np.percentile(times_to_avalanche, 95)\n",
    "    ListTimes50.append(CumTime50)\n",
    "    ListTimes90.append(CumTime90)\n",
    "    ListTimes95.append(CumTime95)"
   ]
  },
  {
   "cell_type": "code",
   "execution_count": null,
   "id": "ae1d9e01",
   "metadata": {},
   "outputs": [],
   "source": [
    "fig, axs = plt.subplots()\n",
    "\n",
    "\n",
    "axs.plot(ListIters, ListTimes90, \"-o\", label=r\"CT 90%\")\n",
    "axs.plot(ListIters, ListTimes95, \"-o\", label=r\"CT 95%\")\n",
    "axs.set_xlabel(\"Iteration\")\n",
    "axs.set_ylabel(\"Time (ns)\")\n",
    "axs.legend()\n",
    "fig.savefig(\"/home/hellebor/Cumultative9095_vsIter.pdf\")\n"
   ]
  },
  {
   "cell_type": "code",
   "execution_count": null,
   "id": "5cb79932",
   "metadata": {},
   "outputs": [],
   "source": []
  }
 ],
 "metadata": {
  "kernelspec": {
   "display_name": "Python 3",
   "language": "python",
   "name": "python3"
  },
  "language_info": {
   "codemirror_mode": {
    "name": "ipython",
    "version": 3
   },
   "file_extension": ".py",
   "mimetype": "text/x-python",
   "name": "python",
   "nbconvert_exporter": "python",
   "pygments_lexer": "ipython3",
   "version": "3.8.8"
  }
 },
 "nbformat": 4,
 "nbformat_minor": 5
}
