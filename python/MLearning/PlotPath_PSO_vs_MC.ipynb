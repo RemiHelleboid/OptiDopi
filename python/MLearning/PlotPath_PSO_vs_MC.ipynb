{
 "cells": [
  {
   "cell_type": "code",
   "execution_count": null,
   "id": "0fbbdcfe",
   "metadata": {},
   "outputs": [],
   "source": [
    "import numpy as np\n",
    "import matplotlib.pyplot as plt\n",
    "import sys\n",
    "import matplotlib.animation as animation\n",
    "import glob, re, os\n",
    "import pandas as pd\n",
    "import seaborn as sns\n",
    "\n",
    "\n",
    "import scienceplots\n",
    "plt.style.use('default')\n",
    "plt.style.use(['science', 'high-vis', 'grid'])"
   ]
  },
  {
   "cell_type": "code",
   "execution_count": null,
   "id": "ad7d1a99",
   "metadata": {},
   "outputs": [],
   "source": [
    "# Get lastly created folder in a directory\n",
    "def get_last_folder(dir):\n",
    "    list_of_subfolders = [f.path for f in os.scandir(dir) if f.is_dir()]\n",
    "    latest_subfolder = max(list_of_subfolders, key=os.path.getmtime)\n",
    "    return latest_subfolder"
   ]
  },
  {
   "cell_type": "code",
   "execution_count": null,
   "id": "6bdcd1b1",
   "metadata": {},
   "outputs": [],
   "source": [
    "def add_arrow(line, position=None, direction='right', size=15, color=None):\n",
    "    \"\"\"\n",
    "    add an arrow to a line.\n",
    "\n",
    "    line:       Line2D object\n",
    "    position:   x-position of the arrow. If None, mean of xdata is taken\n",
    "    direction:  'left' or 'right'\n",
    "    size:       size of the arrow in fontsize points\n",
    "    color:      if None, line color is taken.\n",
    "    \"\"\"\n",
    "    if color is None:\n",
    "        color = line.get_color()\n",
    "\n",
    "    xdata = line.get_xdata()\n",
    "    ydata = line.get_ydata()\n",
    "\n",
    "    if position is None:\n",
    "        position = ydata.mean()\n",
    "    # find closest index\n",
    "    start_ind = np.argmin(np.absolute(ydata - position))\n",
    "    if direction == 'right':\n",
    "        end_ind = start_ind + 1\n",
    "    else:\n",
    "        end_ind = start_ind - 1\n",
    "\n",
    "    line.axes.annotate('',\n",
    "        xytext=(xdata[start_ind], ydata[start_ind]),\n",
    "        xy=(xdata[end_ind], ydata[end_ind]),\n",
    "        arrowprops=dict(arrowstyle=\"->\", color=color),\n",
    "        size=size\n",
    "    )\n",
    "    print((xdata[start_ind], ydata[start_ind]))\n",
    "    print((xdata[end_ind], ydata[end_ind]))\n",
    "    return line"
   ]
  },
  {
   "cell_type": "code",
   "execution_count": null,
   "id": "e6671d41",
   "metadata": {},
   "outputs": [],
   "source": [
    "dataset_path_dir = \"../../build/DATASET_COMPLEX_SPAD/\"\n",
    "list_of_files = glob.glob(dataset_path_dir + \"*.csv\")\n",
    "latest_file = max(list_of_files, key=os.path.getctime)\n",
    "dataset_path = latest_file\n",
    "print(\"Dataset path: \", dataset_path)\n",
    "df = pd.read_csv(dataset_path, sep=\",\", header=0)\n",
    "\n",
    "idx_BV = df.columns.get_loc(\"BreakdownVoltage\")\n",
    "idxBrP = idx_BV + 1\n",
    "idxDW = idx_BV + 2\n",
    "idxDoping = np.arange(1, idx_BV, 1)\n",
    "\n",
    "df.dropna()\n",
    "df.tail()"
   ]
  },
  {
   "cell_type": "code",
   "execution_count": null,
   "id": "c2fa8300",
   "metadata": {},
   "outputs": [],
   "source": [
    "pp = sns.pairplot(df[[\"TotalLength\", \"BreakdownVoltage\", \"BreakdownProbability\", \"DepletionWidth\"]], diag_kind=\"kde\")\n",
    "plt.show()"
   ]
  },
  {
   "cell_type": "code",
   "execution_count": null,
   "id": "f78ce9cf",
   "metadata": {},
   "outputs": [],
   "source": [
    "N = 10000\n",
    "X = df[\"BreakdownVoltage\"].to_numpy()[:N:]\n",
    "Y = df[\"DepletionWidth\"].to_numpy()[:N:]\n",
    "Z = df[\"BreakdownProbability\"].to_numpy()[:N:]"
   ]
  },
  {
   "cell_type": "code",
   "execution_count": null,
   "id": "843a882e",
   "metadata": {},
   "outputs": [],
   "source": []
  },
  {
   "cell_type": "code",
   "execution_count": null,
   "id": "b3caa512",
   "metadata": {},
   "outputs": [],
   "source": [
    "PSO_DIR = get_last_folder(\"../../build/results_pso/\")\n",
    "file_spad_figures_PSO = f\"{PSO_DIR}/BEST/SPAD_figures_best_path.csv\""
   ]
  },
  {
   "cell_type": "code",
   "execution_count": null,
   "id": "39d06985",
   "metadata": {},
   "outputs": [],
   "source": [
    "Iteration_PSO, BV_PSO, BrP_PSO, DW_PSO, Cost_PSO = np.loadtxt(file_spad_figures_PSO, delimiter=',', unpack=True, skiprows=1)\n",
    "DW_PSO *= 1.0e6\n",
    "\n",
    "# Sort by iteration\n",
    "idx_PSO = np.argsort(Iteration_PSO)\n",
    "\n",
    "Iteration_PSO = Iteration_PSO[idx_PSO]\n",
    "BV_PSO = BV_PSO[idx_PSO]\n",
    "BrP_PSO = BrP_PSO[idx_PSO]\n",
    "DW_PSO = DW_PSO[idx_PSO]\n",
    "Cost_PSO = Cost_PSO[idx_PSO]"
   ]
  },
  {
   "cell_type": "code",
   "execution_count": null,
   "id": "ea4d7b4c",
   "metadata": {},
   "outputs": [],
   "source": [
    "fig, axs = plt.subplots(1, 1)\n",
    "axs.scatter(X, Y, s=2, marker='.', alpha=0.65, edgecolors='k', linewidths=0.1, label=\"MC Sampling\")\n",
    "axs.set_xlabel(\"Breakdown Voltage (V)\")\n",
    "axs.set_ylabel(\"Depletion Width ($\\mu$m)\")\n",
    "line, = axs.plot(BV_PSO, DW_PSO, \"-\", c='r', marker='^', markevery=20, markersize=5, label=\"PSO Path\")\n",
    "iter = np.arange(0, len(BV_PSO), 1)\n",
    "#axs.scatter(BV_PSO, DW_PSO, c=iter, s=10, alpha=0.75, edgecolor='k', linewidth=0.1)\n",
    "\n",
    "\n",
    "axs.legend(loc='upper right')\n",
    "\n",
    "fig.savefig(\"/home/hellebor/pathBest_BV_DW_PSOMC.pdf\")\n",
    "fig.savefig(\"/home/hellebor/pathBest_BV_DW_PSOMC.png\", dpi=300)\n",
    "plt.show()\n"
   ]
  },
  {
   "cell_type": "code",
   "execution_count": null,
   "id": "a83660a9",
   "metadata": {},
   "outputs": [],
   "source": [
    "fig, axs = plt.subplots(1, 1)\n",
    "axs.scatter(X, Z, s=2, marker='.', alpha=0.65, edgecolors='k', linewidths=0.1, label=\"MC Sampling\")\n",
    "axs.set_xlabel(\"Breakdown Voltage (V)\")\n",
    "axs.set_ylabel(\"Breakdown Probability\")\n",
    "axs.plot(BV_PSO, BrP_PSO, \"-\", c='r', marker='v', markevery=20, markersize=5, label=\"PSO Path\")\n",
    "iter = np.arange(0, len(BV_PSO), 1)\n",
    "#axs.scatter(BV_PSO, BrP_PSO, c=iter, s=10, alpha=0.75, edgecolor='k', linewidth=0.1)\n",
    "fig.savefig(\"/home/hellebor/pathBest_BV_BrP_PSOMC.pdf\")\n",
    "fig.savefig(\"/home/hellebor/pathBest_BV_BrP_PSOMC.png\", dpi=300)\n",
    "axs.legend()\n",
    "plt.show()"
   ]
  },
  {
   "cell_type": "code",
   "execution_count": null,
   "id": "935c0867",
   "metadata": {},
   "outputs": [],
   "source": []
  },
  {
   "cell_type": "code",
   "execution_count": null,
   "id": "76c90622",
   "metadata": {},
   "outputs": [],
   "source": [
    "fig, axs = plt.subplots(1, 1)\n",
    "axs.scatter(Y, Z, s=2, marker='.', alpha=0.65, edgecolors='k', linewidths=0.1, label=\"MC Sampling\")\n",
    "axs.set_xlabel(\"Depletion Width ($\\mu$m)\")\n",
    "axs.set_ylabel(\"Breakdown Probability\")\n",
    "axs.plot(DW_PSO, BrP_PSO,\"-\", c='r', marker='>', markevery=10, markersize=5, label=\"PSO Path\")\n",
    "iter = np.arange(0, len(BV_PSO), 1)\n",
    "#axs.scatter(DW_PSO, BrP_PSO, c=iter, s=10, alpha=0.75, edgecolor='k', linewidth=0.1)\n",
    "axs.legend()\n",
    "fig.savefig(\"/home/hellebor/pathBest_DW_BrP_PSOMC.pdf\")\n",
    "fig.savefig(\"/home/hellebor/pathBest_DW_BrP_PSOMC.png\", dpi=300)\n",
    "plt.show()"
   ]
  },
  {
   "cell_type": "code",
   "execution_count": null,
   "id": "96f9ef50",
   "metadata": {},
   "outputs": [],
   "source": [
    "from matplotlib import animation\n",
    "from mpl_toolkits.mplot3d import Axes3D\n",
    "\n",
    "\n",
    "fig = plt.figure(figsize=(6, 5))\n",
    "ax = fig.add_subplot(111, projection='3d')\n",
    "ax.set_xlabel(\"BV (V)\")\n",
    "ax.set_zlabel(\"DW ($\\mu$m)\")\n",
    "ax.set_ylabel(\"BrP\")\n",
    "ax.grid(False)\n",
    "\n",
    "ax.plot(BV_PSO, BrP_PSO, DW_PSO, c='r', marker='^', markevery=20, markersize=5, label=\"PSO Path\")\n",
    "scat = ax.scatter(X, Z, Y,  s=2, marker='.', alpha=0.65, edgecolors='k', linewidths=0.1)\n",
    "fig.tight_layout()\n",
    "plt.show()\n",
    "\n",
    "def init():\n",
    "    ax.view_init(elev=10., azim=0)\n",
    "    return [scat]\n",
    "\n",
    "k_param = 4.0\n",
    "\n",
    "def animate(i):\n",
    "    print(f\"\\rFrame {i} / {k_param*360}\", end='', flush=True)\n",
    "    angle = i / k_param\n",
    "    ax.view_init(elev=10., azim=i)\n",
    "    return [scat]\n",
    "\n",
    "# Animate\n",
    "anim = animation.FuncAnimation(fig, animate, init_func=init,\n",
    "                               frames=int(360*k_param), interval=20, blit=True)\n",
    "\n",
    "# Save\n",
    "anim.save('/home/hellebor/basic_animation.mp4', fps=30, extra_args=['-vcodec', 'libx264'], dpi=300)"
   ]
  },
  {
   "cell_type": "code",
   "execution_count": null,
   "id": "86a6e411",
   "metadata": {},
   "outputs": [],
   "source": []
  }
 ],
 "metadata": {
  "kernelspec": {
   "display_name": "Python 3",
   "language": "python",
   "name": "python3"
  },
  "language_info": {
   "codemirror_mode": {
    "name": "ipython",
    "version": 3
   },
   "file_extension": ".py",
   "mimetype": "text/x-python",
   "name": "python",
   "nbconvert_exporter": "python",
   "pygments_lexer": "ipython3",
   "version": "3.8.8"
  }
 },
 "nbformat": 4,
 "nbformat_minor": 5
}
