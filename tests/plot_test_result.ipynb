{
 "cells": [
  {
   "cell_type": "code",
   "execution_count": null,
   "metadata": {},
   "outputs": [],
   "source": [
    "import numpy as np\n",
    "import matplotlib.pyplot as plt\n",
    "import sys, os\n",
    "\n",
    "import matplotlib.animation as animation\n",
    "import glob, re\n",
    "\n",
    "import scienceplots\n",
    "\n",
    "plt.style.use('default')\n",
    "plt.style.use(['science', 'high-vis', 'grid'])"
   ]
  },
  {
   "cell_type": "code",
   "execution_count": null,
   "metadata": {},
   "outputs": [],
   "source": [
    "velocity_file = \"../build/x_velocity_mean_vs_electric_field.csv\"\n",
    "ElectricField, Velocity, StdVelocity,  AroraCanali = np.loadtxt(velocity_file, delimiter=',', unpack=True, skiprows=1)\n",
    "fig, axs = plt.subplots(1, 1, figsize=(6, 4))\n",
    "axs.plot(ElectricField, Velocity, '-o', markersize=2, label=\"ADMC\", color='blue')\n",
    "axs.errorbar(ElectricField, Velocity, yerr=StdVelocity, fmt='o', markersize=2, barsabove=True, color='blue', capthick=1, capsize=2, label=\"ADMC $1\\sigma$\")\n",
    "\n",
    "\n",
    "axs.plot(ElectricField, AroraCanali, markersize=2, label=\"AroraCanali\", color='red', linestyle='dashed')\n",
    "axs.legend()\n",
    "\n",
    "axs.set_xlabel(\"Electric Field (V/m)\")\n",
    "axs.set_ylabel(\"Velocity (m/s)\")\n",
    "axs.set_title(\"Velocity vs Electric Field\")\n",
    "axs.set_yscale('log')\n",
    "axs.set_xscale('log')"
   ]
  },
  {
   "cell_type": "code",
   "execution_count": null,
   "metadata": {},
   "outputs": [],
   "source": [
    "impact_ionization_file = \"../build/impact_ionization_rate_vs_electric_field.csv\"\n",
    "ElectricField, ImpactIonizationRate, DeManTheory = np.loadtxt(impact_ionization_file, delimiter=',', unpack=True, skiprows=1)\n",
    "InverseEF = 1.0/ElectricField\n",
    "fig, axs = plt.subplots(1, 1, figsize=(6, 4))\n",
    "axs.plot(InverseEF, ImpactIonizationRate, 'o', label=\"ADMC\", color='blue')\n",
    "axs.plot(InverseEF, DeManTheory, markersize=2, label=\"DeMan\", color='red', linestyle='dashed')\n",
    "axs.legend()\n",
    "axs.set_yscale('log')\n",
    "axs.set_ylim(bottom=1e1)\n",
    "\n",
    "\n",
    "axs.set_xlabel(\"1/Electric Field (cm/V$^{-1}$)\")\n",
    "axs.set_ylabel(\"Impact Ionization Rate (cm$^{-1}$)\")\n",
    "axs.set_title(\"Impact Ionization Rate vs Electric Field\")"
   ]
  },
  {
   "cell_type": "code",
   "execution_count": null,
   "metadata": {},
   "outputs": [],
   "source": [
    "impact_ionization_file = \"../build/hole_impact_ionization_rate_vs_electric_field.csv\"\n",
    "hElectricField, hImpactIonizationRate, hDeManTheory = np.loadtxt(impact_ionization_file, delimiter=',', unpack=True, skiprows=1)\n",
    "hInverseEF = 1.0/hElectricField\n",
    "fig, axs = plt.subplots(1, 1, figsize=(6, 4))\n",
    "axs.plot(hInverseEF, hImpactIonizationRate, 'o', label=\"ADMC\", color='blue')\n",
    "axs.plot(hInverseEF, hDeManTheory, markersize=2, label=\"DeMan\", color='red', linestyle='dashed')\n",
    "axs.legend()\n",
    "axs.set_yscale('log')\n",
    "axs.set_ylim(bottom=1e1)\n",
    "\n",
    "axs.set_xlabel(\"1/Electric Field (cm/V$^{-1}$)\")\n",
    "axs.set_ylabel(\"Impact Ionization Rate (cm$^{-1}$)\")\n",
    "axs.set_title(\"Hole Impact Ionization Rate vs Electric Field\")"
   ]
  },
  {
   "cell_type": "code",
   "execution_count": null,
   "metadata": {},
   "outputs": [],
   "source": [
    "file_diffusion = \"../build/std_xVStime.csv\"\n",
    "time, std_x = np.loadtxt(file_diffusion, delimiter=',', unpack=True, skiprows=1)\n",
    "std_x *= 1e-4\n",
    "\n",
    "fig, axs = plt.subplots(1, 1, figsize=(6, 4))\n",
    "axs.plot(time, std_x**2, '-', label=\"ADMC\", color='blue')\n",
    "axs.legend()\n",
    "\n",
    "axs.set_xlabel(\"Time (s)\")\n",
    "axs.set_ylabel(\"Standard Deviation of x (m)\")\n",
    "\n",
    "# Linear fit\n",
    "from scipy import stats\n",
    "slope, intercept, r_value, p_value, std_err = stats.linregress(time, std_x**2)\n",
    "axs.plot(time, intercept + slope*time, 'r', label='fitted line')\n",
    "axs.text(0.5, 0.4, f\"y={slope:.2f}x+{intercept:.2f}\", transform=axs.transAxes)\n",
    "axs.text(0.5, 0.3, f\"$R^2$={r_value**2:.6f}\", transform=axs.transAxes)\n",
    "\n",
    "T = 300.0\n",
    "kB = 1.38064852e-23\n",
    "q = 1.60217662e-19\n",
    "\n",
    "mobility = slope/(2*T*kB/q)\n",
    "\n",
    "print(f\"Mobility: {mobility:.2e} m^2/(V*s)\")\n",
    "\n",
    "print(f\"Diffusion coefficient: {slope/2:.2e} m^2/s\")"
   ]
  },
  {
   "cell_type": "code",
   "execution_count": null,
   "metadata": {},
   "outputs": [],
   "source": []
  }
 ],
 "metadata": {
  "kernelspec": {
   "display_name": "base",
   "language": "python",
   "name": "python3"
  },
  "language_info": {
   "codemirror_mode": {
    "name": "ipython",
    "version": 3
   },
   "file_extension": ".py",
   "mimetype": "text/x-python",
   "name": "python",
   "nbconvert_exporter": "python",
   "pygments_lexer": "ipython3",
   "version": "3.9.13"
  }
 },
 "nbformat": 4,
 "nbformat_minor": 2
}
